{
  "nbformat": 4,
  "nbformat_minor": 0,
  "metadata": {
    "accelerator": "GPU",
    "colab": {
      "name": "Diabetic_Retinopathy2 .ipynb",
      "provenance": [],
      "collapsed_sections": [],
      "toc_visible": true,
      "include_colab_link": true
    },
    "kernelspec": {
      "display_name": "Python 3",
      "name": "python3"
    }
  },
  "cells": [
    {
      "cell_type": "markdown",
      "metadata": {
        "id": "view-in-github",
        "colab_type": "text"
      },
      "source": [
        "<a href=\"https://colab.research.google.com/github/Kushagratandon12/Diabetic_retinopathy/blob/main/Diabetic_Retinopathy2_.ipynb\" target=\"_parent\"><img src=\"https://colab.research.google.com/assets/colab-badge.svg\" alt=\"Open In Colab\"/></a>"
      ]
    },
    {
      "cell_type": "code",
      "metadata": {
        "id": "0Xz5p807dVF4"
      },
      "source": [
        "# !pip install kaggle\n",
        "# !mkdir -p ~/.kaggle\n",
        "# !cp kaggle.json ~/.kaggle/\n",
        "# !chmod 600 ~/.kaggle/kaggle.json\n",
        "# ! pip install split-folders\n",
        " \n",
        "# #Download Dataset \n",
        "# !kaggle datasets download -d kushagratandon12/diabetic-retinopathy-processed-data\n",
        "# !unzip /content/diabetic-retinopathy-processed-data.zip\n",
        "# !rm -rf '/content/diabetic-retinopathy-processed-data.zip'"
      ],
      "execution_count": null,
      "outputs": []
    },
    {
      "cell_type": "code",
      "metadata": {
        "id": "TtrxJRbKKg9e"
      },
      "source": [
        "import numpy as np\n",
        "import pandas as pd\n",
        "import glob\n",
        "import os \n",
        "from tqdm import tqdm\n",
        "from os import path\n",
        "import gc\n",
        "import cv2\n",
        "import matplotlib.pyplot as plt\n",
        "import seaborn as sns\n",
        "import tensorflow as tf\n",
        "from google.colab import drive\n",
        "from google.colab import files\n",
        "from tensorflow.keras import layers\n",
        "from tensorflow.keras.preprocessing import image\n",
        "from tensorflow.keras.optimizers import Adam , SGD , RMSprop\n",
        "from tensorflow.keras.callbacks import ModelCheckpoint\n",
        "from tensorflow.keras.callbacks import ReduceLROnPlateau \n",
        "from tensorflow.keras.applications.resnet_v2 import  ResNet50V2\n",
        "import splitfolders"
      ],
      "execution_count": 2,
      "outputs": []
    },
    {
      "cell_type": "code",
      "metadata": {
        "colab": {
          "base_uri": "https://localhost:8080/"
        },
        "id": "TbM0gTnvKJPu",
        "outputId": "4ef5c9e0-e669-4cce-9f1d-c07004cc3ae8"
      },
      "source": [
        "drive.mount('/content/drive')\n",
        "gc.collect()"
      ],
      "execution_count": 3,
      "outputs": [
        {
          "output_type": "stream",
          "text": [
            "Mounted at /content/drive\n"
          ],
          "name": "stdout"
        },
        {
          "output_type": "execute_result",
          "data": {
            "text/plain": [
              "72"
            ]
          },
          "metadata": {
            "tags": []
          },
          "execution_count": 3
        }
      ]
    },
    {
      "cell_type": "code",
      "metadata": {
        "colab": {
          "base_uri": "https://localhost:8080/"
        },
        "id": "Ge72HN66QsBR",
        "outputId": "6ad94e58-8060-4d9d-daab-2f2c13b3a88a"
      },
      "source": [
        "dataset = glob.glob('/content/processed_data/*/*.jpeg')\n",
        "print('Total Number Of Images {}'.format(len(dataset)))"
      ],
      "execution_count": 4,
      "outputs": [
        {
          "output_type": "stream",
          "text": [
            "Total Number Of Images 35126\n"
          ],
          "name": "stdout"
        }
      ]
    },
    {
      "cell_type": "code",
      "metadata": {
        "colab": {
          "base_uri": "https://localhost:8080/"
        },
        "id": "WNIA-z-VebFd",
        "outputId": "d9dd5653-d31b-48da-f7de-a83ff36b9844"
      },
      "source": [
        "classes=['No_Dr','Mild','Moderate','severe','Proliferative DR']\n",
        "class_dict = {}\n",
        "for i,label in enumerate(classes):\n",
        "  class_dict[i]=label\n",
        "print(class_dict)"
      ],
      "execution_count": 5,
      "outputs": [
        {
          "output_type": "stream",
          "text": [
            "{0: 'No_Dr', 1: 'Mild', 2: 'Moderate', 3: 'severe', 4: 'Proliferative DR'}\n"
          ],
          "name": "stdout"
        }
      ]
    },
    {
      "cell_type": "markdown",
      "metadata": {
        "id": "PhNlKwJfRfrq"
      },
      "source": [
        "Dataset -  \n",
        "\n",
        "*   No Dr\n",
        "*   Mild\n",
        "*   Moderate\n",
        "*   Severe\n",
        "*   Proliferative DR\n",
        "\n",
        "\n",
        "\n",
        "\n",
        "\n"
      ]
    },
    {
      "cell_type": "markdown",
      "metadata": {
        "id": "UovsZZRDCJ-r"
      },
      "source": [
        "Reducing The Images of No-DR i.e 0"
      ]
    },
    {
      "cell_type": "code",
      "metadata": {
        "colab": {
          "base_uri": "https://localhost:8080/"
        },
        "id": "uCnmx6U2_8qf",
        "outputId": "d560330b-4167-4fef-9c6f-4f9634e7699a"
      },
      "source": [
        "# ammount to be removed = 10800\n",
        "label_1 = glob.glob('/content/processed_data/0/*.jpeg')\n",
        "label_1 = list(label_1[12800::])\n",
        "print(len(label_1))\n",
        "for i in range(len(label_1)):\n",
        "  os.remove(label_1[i])"
      ],
      "execution_count": 6,
      "outputs": [
        {
          "output_type": "stream",
          "text": [
            "13010\n"
          ],
          "name": "stdout"
        }
      ]
    },
    {
      "cell_type": "markdown",
      "metadata": {
        "id": "Skk99m4mfUah"
      },
      "source": [
        "## Make Training Dataframe of images"
      ]
    },
    {
      "cell_type": "code",
      "metadata": {
        "id": "FN5QU-kXZ6w7"
      },
      "source": [
        "img_files = [os.path.basename(name) for name in dataset]\n",
        "data_label = [int(name.split('/')[-2]) for name in dataset]\n",
        "\n",
        "df = pd.DataFrame({'filename':img_files,'label':data_label})\n"
      ],
      "execution_count": 7,
      "outputs": []
    },
    {
      "cell_type": "code",
      "metadata": {
        "colab": {
          "base_uri": "https://localhost:8080/",
          "height": 445
        },
        "id": "_Gs6h2YsaWQP",
        "outputId": "d003192e-0431-46ac-b313-318bb0ab63c2"
      },
      "source": [
        "sns.countplot(df['label'])\n",
        "df['label'].value_counts()"
      ],
      "execution_count": 8,
      "outputs": [
        {
          "output_type": "stream",
          "text": [
            "/usr/local/lib/python3.7/dist-packages/seaborn/_decorators.py:43: FutureWarning: Pass the following variable as a keyword arg: x. From version 0.12, the only valid positional argument will be `data`, and passing other arguments without an explicit keyword will result in an error or misinterpretation.\n",
            "  FutureWarning\n"
          ],
          "name": "stderr"
        },
        {
          "output_type": "execute_result",
          "data": {
            "text/plain": [
              "0    25810\n",
              "2     5292\n",
              "1     2443\n",
              "3      873\n",
              "4      708\n",
              "Name: label, dtype: int64"
            ]
          },
          "metadata": {
            "tags": []
          },
          "execution_count": 8
        },
        {
          "output_type": "display_data",
          "data": {
            "image/png": "[encoded data removed]",
            "text/plain": [
              "<Figure size 432x288 with 1 Axes>"
            ]
          },
          "metadata": {
            "tags": [],
            "needs_background": "light"
          }
        }
      ]
    },
    {
      "cell_type": "code",
      "metadata": {
        "colab": {
          "base_uri": "https://localhost:8080/"
        },
        "id": "_bj9UTSIt_Eu",
        "outputId": "e7a2cfc2-9c99-4aec-ddc8-c7681785cda9"
      },
      "source": [
        "df_minor = df.loc[(df['label'] !=0)&(df['label']!=1) &(df['label']!=2)]\n",
        "df_minor.head()\n",
        "\n",
        "minor_imgs =[]\n",
        "for iter,row in df_minor.iterrows():\n",
        "    fname = os.path.join(os.path.join('/content/processed_data',str(row.label)),\n",
        "                         row.filename)\n",
        "    minor_imgs.append(fname)\n",
        "print(len(minor_imgs))\n",
        "gc.collect()"
      ],
      "execution_count": 35,
      "outputs": [
        {
          "output_type": "stream",
          "text": [
            "1581\n"
          ],
          "name": "stdout"
        },
        {
          "output_type": "execute_result",
          "data": {
            "text/plain": [
              "21518"
            ]
          },
          "metadata": {
            "tags": []
          },
          "execution_count": 35
        }
      ]
    },
    {
      "cell_type": "code",
      "metadata": {
        "colab": {
          "base_uri": "https://localhost:8080/"
        },
        "id": "FCTOTELPeSjf",
        "outputId": "3e1e38e7-e803-40d5-feb6-faae25606e05"
      },
      "source": [
        "diabetic_imgs= minor_imgs\n",
        "diabetic_imgs = np.asarray(diabetic_imgs)\n",
        "np.random.shuffle(diabetic_imgs)\n",
        "print(diabetic_imgs.shape)"
      ],
      "execution_count": 36,
      "outputs": [
        {
          "output_type": "stream",
          "text": [
            "(1581,)\n"
          ],
          "name": "stdout"
        }
      ]
    },
    {
      "cell_type": "markdown",
      "metadata": {
        "id": "P5_DuNuooTvL"
      },
      "source": [
        "## Image Aug using keras "
      ]
    },
    {
      "cell_type": "code",
      "metadata": {
        "colab": {
          "base_uri": "https://localhost:8080/",
          "height": 35
        },
        "id": "ZTz_AgHDSkPE",
        "outputId": "72e8203a-3d49-4edf-eae2-d2d8fcb1e76d"
      },
      "source": [
        "from google.colab.patches import cv2_imshow\n",
        "plt.figure(figsize=(10, 10))\n",
        "\n",
        "\n",
        "def decode_img(filename,shape=(512,512)):\n",
        "    img = image.load_img(filename,target_size=(shape))\n",
        "    img  = image.img_to_array(img)\n",
        "    img = np.expand_dims(img,axis=0)\n",
        "    print(img.shape)\n",
        "    return img\n",
        "\n",
        "data_augmentation = tf.keras.Sequential([\n",
        "     layers.experimental.preprocessing.RandomRotation((0.1,0.3),fill_mode='nearest'),\n",
        "      layers.experimental.preprocessing.RandomZoom(0.2),\n",
        "      layers.experimental.preprocessing.RandomContrast(0.2)\n",
        "          ])\n",
        "\n",
        "# for filename in diabetic_imgs:\n",
        "#     print(filename)\n",
        "#     img_decoded = decode_img(filename)\n",
        "#     for i in range(3):\n",
        "#         augmented_image = data_augmentation(img_decoded)\n",
        "#         augmented_image = np.squeeze(augmented_image, axis=0)\n",
        "#         ax = plt.subplot(3, 3, i + 1)\n",
        "#         cv2_imshow(augmented_image)\n",
        "#         plt.axis(\"off\")\n",
        "#     break \n"
      ],
      "execution_count": 37,
      "outputs": [
        {
          "output_type": "display_data",
          "data": {
            "text/plain": [
              "<Figure size 720x720 with 0 Axes>"
            ]
          },
          "metadata": {
            "tags": []
          }
        }
      ]
    },
    {
      "cell_type": "markdown",
      "metadata": {
        "id": "8VsHUf8socjh"
      },
      "source": [
        "## Image Aug using IMAGAUG "
      ]
    },
    {
      "cell_type": "code",
      "metadata": {
        "colab": {
          "base_uri": "https://localhost:8080/",
          "height": 219
        },
        "id": "kPKEEbyGV8My",
        "outputId": "84a9449b-2967-44be-c586-54f00f70fdae"
      },
      "source": [
        "from imgaug import augmenters as iaa\n",
        "import imageio\n",
        "from google.colab.patches import cv2_imshow\n",
        "plt.figure(figsize=(10, 10))\n",
        "\n",
        "seq = iaa.Sequential([\n",
        "    \t\tiaa.Crop(px=(0, 16)),\n",
        "    \t\tiaa.Fliplr(0.5),\n",
        "            iaa.Affine(rotate=(-25,25)),\n",
        "            iaa.LinearContrast(alpha=1.2)\n",
        "    \t\t])\n",
        "\n",
        "def read_img(filename,shape=(512,512)):\n",
        "    img = image.load_img(filename,target_size=(shape))\n",
        "    img  = image.img_to_array(img)\n",
        "    return img\n",
        "\n",
        "def load_batch(img_list,batch=32,count=0):\n",
        "    imgs = [] \n",
        "    fnames  = []\n",
        "    i = count*batch\n",
        "    for filename in img_list[i:batch*(count+1)]:\n",
        "        img = read_img(filename)\n",
        "        imgs.append(img)\n",
        "        fnames.append(filename)\n",
        "    return imgs,fnames\n",
        "\n",
        "nb_batches  =  len(diabetic_imgs)//32\n",
        "print(nb_batches)\n",
        "\n",
        "for idx in tqdm(range(nb_batches),position=0):\n",
        "    images,fnames = load_batch(diabetic_imgs,count=idx)\n",
        "    images_aug = seq(images=images)\n",
        "    for im, im_aug in enumerate(images_aug):\n",
        "        name = fnames[im][:-4]+'_aug_'+str(im)+'.jpeg'\n",
        "        imageio.imwrite(name, im_aug)\n",
        "\n",
        "gc.collect()\n",
        "    "
      ],
      "execution_count": 38,
      "outputs": [
        {
          "output_type": "stream",
          "text": [
            "WARNING:root:Lossy conversion from float32 to uint8. Range [0.0, 306.0000305175781]. Convert image to uint8 prior to saving to suppress this warning.\n",
            "WARNING:root:Lossy conversion from float32 to uint8. Range [0.0, 306.0000305175781]. Convert image to uint8 prior to saving to suppress this warning.\n",
            "WARNING:root:Lossy conversion from float32 to uint8. Range [0.0, 306.0000305175781]. Convert image to uint8 prior to saving to suppress this warning.\n",
            "WARNING:root:Lossy conversion from float32 to uint8. Range [0.0, 306.0000305175781]. Convert image to uint8 prior to saving to suppress this warning.\n",
            "WARNING:root:Lossy conversion from float32 to uint8. Range [0.0, 306.0000305175781]. Convert image to uint8 prior to saving to suppress this warning.\n",
            "WARNING:root:Lossy conversion from float32 to uint8. Range [0.0, 306.0000305175781]. Convert image to uint8 prior to saving to suppress this warning.\n",
            "WARNING:root:Lossy conversion from float32 to uint8. Range [0.9480682611465454, 306.0000305175781]. Convert image to uint8 prior to saving to suppress this warning.\n",
            "100%|██████████| 49/49 [00:54<00:00,  1.12s/it]\n"
          ],
          "name": "stderr"
        },
        {
          "output_type": "execute_result",
          "data": {
            "text/plain": [
              "139"
            ]
          },
          "metadata": {
            "tags": []
          },
          "execution_count": 38
        },
        {
          "output_type": "display_data",
          "data": {
            "text/plain": [
              "<Figure size 720x720 with 0 Axes>"
            ]
          },
          "metadata": {
            "tags": []
          }
        }
      ]
    },
    {
      "cell_type": "code",
      "metadata": {
        "colab": {
          "base_uri": "https://localhost:8080/",
          "height": 372
        },
        "id": "e222s8DJanIm",
        "outputId": "1095d0a3-76a2-45f7-9a7a-39580d159563"
      },
      "source": [
        "aug_dataset = glob.glob('/content/processed_data/*/*.jpeg')\n",
        "print('Total Number Of Images {}'.format(len(aug_dataset)))\n",
        "\n",
        "img_files = [os.path.basename(name) for name in aug_dataset]\n",
        "train_label = [name.split('/')[-2] for name in aug_dataset]\n",
        "\n",
        "aug_df = pd.DataFrame({'filename':img_files,'label':train_label})\n",
        "sns.countplot(aug_df['label'])\n",
        "\n"
      ],
      "execution_count": 39,
      "outputs": [
        {
          "output_type": "stream",
          "text": [
            "Total Number Of Images 32941\n"
          ],
          "name": "stdout"
        },
        {
          "output_type": "stream",
          "text": [
            "/usr/local/lib/python3.7/dist-packages/seaborn/_decorators.py:43: FutureWarning: Pass the following variable as a keyword arg: x. From version 0.12, the only valid positional argument will be `data`, and passing other arguments without an explicit keyword will result in an error or misinterpretation.\n",
            "  FutureWarning\n"
          ],
          "name": "stderr"
        },
        {
          "output_type": "execute_result",
          "data": {
            "text/plain": [
              "<matplotlib.axes._subplots.AxesSubplot at 0x7faad79a60d0>"
            ]
          },
          "metadata": {
            "tags": []
          },
          "execution_count": 39
        },
        {
          "output_type": "display_data",
          "data": {
            "image/png": "[encoded data removed]",
            "text/plain": [
              "<Figure size 432x288 with 1 Axes>"
            ]
          },
          "metadata": {
            "tags": [],
            "needs_background": "light"
          }
        }
      ]
    },
    {
      "cell_type": "code",
      "metadata": {
        "colab": {
          "base_uri": "https://localhost:8080/"
        },
        "id": "GitFfBzLqURD",
        "outputId": "649a12e9-3332-4bcd-c6f3-8923f0c52606"
      },
      "source": [
        "aug_df['label'].value_counts()"
      ],
      "execution_count": 40,
      "outputs": [
        {
          "output_type": "execute_result",
          "data": {
            "text/plain": [
              "0    12800\n",
              "2    10581\n",
              "1     4885\n",
              "3     2575\n",
              "4     2100\n",
              "Name: label, dtype: int64"
            ]
          },
          "metadata": {
            "tags": []
          },
          "execution_count": 40
        }
      ]
    },
    {
      "cell_type": "markdown",
      "metadata": {
        "id": "X7EuBMcKC0Oj"
      },
      "source": [
        "#Model Creation\n"
      ]
    },
    {
      "cell_type": "code",
      "metadata": {
        "colab": {
          "base_uri": "https://localhost:8080/"
        },
        "id": "nWbXoXGSEjK0",
        "outputId": "a983ce48-c7b7-489b-e48a-673558cf0750"
      },
      "source": [
        "input_data = '/content/processed_data'\n",
        "output_data = '/content/output'\n",
        "! mkdir /content/output\n",
        "if len(os.listdir(output_data))==0:\n",
        "  splitfolders.ratio(input_data, output=output_data,seed=1337, ratio=(.8, .1, .1), group_prefix=None)"
      ],
      "execution_count": 17,
      "outputs": [
        {
          "output_type": "stream",
          "text": [
            "Copying files: 31428 files [00:23, 1351.41 files/s]\n"
          ],
          "name": "stderr"
        }
      ]
    },
    {
      "cell_type": "code",
      "metadata": {
        "id": "cs05sc2ACf7f"
      },
      "source": [
        "#Hyper-Parameter Declarations \n",
        "IMG_WIDTH = 512\n",
        "IMG_HEIGHT = 512\n",
        "IMG_SHAPE=(IMG_WIDTH,IMG_HEIGHT)\n",
        "EPOCH = 30\n",
        "test_data = '/content/output/test'\n",
        "training_data = '/content/output/train'\n",
        "validation_data = '/content/output/val'"
      ],
      "execution_count": 41,
      "outputs": []
    },
    {
      "cell_type": "code",
      "metadata": {
        "id": "K3JR6z_5GVjQ"
      },
      "source": [
        "image_data_generator = tf.keras.preprocessing.image.ImageDataGenerator(\n",
        "  rescale = 1/255)"
      ],
      "execution_count": 42,
      "outputs": []
    },
    {
      "cell_type": "code",
      "metadata": {
        "colab": {
          "base_uri": "https://localhost:8080/"
        },
        "id": "0dZSmN8RHMhn",
        "outputId": "9c313fd3-6282-4eff-908d-c1836af10ad8"
      },
      "source": [
        "training_datagen = image_data_generator.flow_from_directory(\n",
        "    training_data,\n",
        "    target_size=IMG_SHAPE,\n",
        "    shuffle=True,\n",
        ")\n",
        "\n",
        "validation_datagen = image_data_generator.flow_from_directory(\n",
        "    validation_data,\n",
        "    target_size=IMG_SHAPE,\n",
        "    shuffle = True\n",
        ")\n",
        "\n",
        "test_datagen = image_data_generator.flow_from_directory(\n",
        "    test_data,\n",
        "    target_size=IMG_SHAPE,\n",
        "    shuffle=True)"
      ],
      "execution_count": 43,
      "outputs": [
        {
          "output_type": "stream",
          "text": [
            "Found 25140 images belonging to 5 classes.\n",
            "Found 3141 images belonging to 5 classes.\n",
            "Found 3147 images belonging to 5 classes.\n"
          ],
          "name": "stdout"
        }
      ]
    },
    {
      "cell_type": "code",
      "metadata": {
        "id": "_zMfRT2OHxrR"
      },
      "source": [
        "def define_model(n_layers=50,BASE_MODEL='ResNet50V2'):\n",
        "    if BASE_MODEL =='ResNet50V2':\n",
        "        # Pre-trained model with MobileNetV2\n",
        "        base_model = ResNet50V2(input_shape=(512,512,3),include_top=False,weights='imagenet')\n",
        "        head_model = base_model\n",
        "        for layers in base_model.layers[:n_layers]:\n",
        "            layers.trainable=True\n",
        "        head_model = head_model.output\n",
        "        head_model = tf.keras.layers.GlobalMaxPooling2D()(head_model)\n",
        "        head_model = tf.keras.layers.Flatten(name=\"Flatten\")(head_model)\n",
        "        head_model = tf.keras.layers.Dense(1024,activation='relu')(head_model)\n",
        "        head_model = tf.keras.layers.Dropout(0.2)(head_model)\n",
        "        prediction_layer = tf.keras.layers.Dense(len(classes), activation='softmax')(head_model)\n",
        "        model = tf.keras.Model(inputs=base_model.input,outputs=prediction_layer)\n",
        "\n",
        "    if BASE_MODEL =='Custom':\n",
        "      model = tf.keras.models.Sequential([\n",
        "              #additing the 1st convolution layers\n",
        "              tf.keras.layers.Conv2D(32,(3,3) ,activation='relu',input_shape=(512,512,3),padding=\"same\"),\n",
        "              tf.keras.layers.MaxPool2D(),\n",
        "              tf.keras.layers.BatchNormalization(),\n",
        "              \n",
        "              #addition the 2nd convolution layers\n",
        "              tf.keras.layers.Conv2D(32,(3,3) , activation='relu',padding=\"same\"),\n",
        "              tf.keras.layers.MaxPool2D(),\n",
        "              tf.keras.layers.BatchNormalization(),\n",
        "              \n",
        "              #addition the 3rd convolution layers\n",
        "              tf.keras.layers.Conv2D(64,(3,3),activation='relu',padding=\"same\"),\n",
        "              tf.keras.layers.MaxPool2D(),\n",
        "              tf.keras.layers.BatchNormalization(),\n",
        "              \n",
        "              tf.keras.layers.Conv2D(64,(3,3),activation='relu',padding=\"same\"),\n",
        "              tf.keras.layers.MaxPool2D(),\n",
        "              tf.keras.layers.BatchNormalization(),\n",
        "              \n",
        "              tf.keras.layers.Conv2D(128,(3,3),activation='relu',padding=\"same\"),\n",
        "              tf.keras.layers.MaxPool2D(),\n",
        "              tf.keras.layers.BatchNormalization(),\n",
        "              \n",
        "              tf.keras.layers.Conv2D(128,(3,3),activation='relu',padding=\"same\"),\n",
        "              tf.keras.layers.MaxPool2D(),\n",
        "              tf.keras.layers.BatchNormalization(),\n",
        "            \n",
        "              tf.keras.layers.Conv2D(256,(3,3),activation='relu',padding=\"same\"),\n",
        "              tf.keras.layers.MaxPool2D(),\n",
        "              tf.keras.layers.BatchNormalization(),\n",
        "              \n",
        "              tf.keras.layers.Conv2D(256,(3,3),activation='relu',padding=\"same\"),\n",
        "              tf.keras.layers.MaxPool2D(),\n",
        "              tf.keras.layers.BatchNormalization(),\n",
        "              \n",
        "              # tf.keras.layers.Conv2D(512,(3,3),activation='relu',padding=\"same\"),\n",
        "              # # tf.keras.layers.MaxPool2D(),\n",
        "              # # tf.keras.layers.BatchNormalization(),\n",
        "              \n",
        "              # tf.keras.layers.Conv2D(512,(3,3),activation='relu',padding=\"same\"),\n",
        "              # tf.keras.layers.MaxPool2D(),\n",
        "              # tf.keras.layers.BatchNormalization(),\n",
        "              # tf.keras.layers.Dropout(0.5),\n",
        "              \n",
        "              tf.keras.layers.Flatten(),\n",
        "              tf.keras.layers.Dense(1024,activation='relu'),\n",
        "              tf.keras.layers.Dropout(0.5),\n",
        "              # tf.keras.layers.Dense(1024,activation='relu'),\n",
        "              tf.keras.layers.Dense(5, activation='softmax')])\n",
        "    return model\n",
        "\n"
      ],
      "execution_count": 44,
      "outputs": []
    },
    {
      "cell_type": "code",
      "metadata": {
        "id": "XjFZFfTkVqhK"
      },
      "source": [
        "model.summary()"
      ],
      "execution_count": null,
      "outputs": []
    },
    {
      "cell_type": "code",
      "metadata": {
        "id": "vOvoQTx5WdMQ"
      },
      "source": [
        "model = define_model(BASE_MODEL='Custom')\n",
        "model.compile(optimizer=RMSprop(lr=0.001), loss=tf.keras.losses.categorical_crossentropy, metrics=['accuracy'])"
      ],
      "execution_count": 46,
      "outputs": []
    },
    {
      "cell_type": "code",
      "metadata": {
        "id": "saPifif4Jujw"
      },
      "source": [
        "checkpoint_path = \"/content/drive/MyDrive/Colab Notebooks/Custom_Weights\"\n",
        "cp_callback = ModelCheckpoint(filepath=checkpoint_path,\n",
        "                            save_weights_only=True,monitor='val_loss', verbose=1,\n",
        "                            save_best_only=True,mode='min')\n",
        "# lr_callback = LearningRateScheduler(lr_scheduler, verbose=1)\n",
        "learning_rate_reduction = ReduceLROnPlateau(monitor='val_accuracy', patience = 2, verbose=1,factor=0.3, min_lr=0.0001)"
      ],
      "execution_count": 47,
      "outputs": []
    },
    {
      "cell_type": "code",
      "metadata": {
        "colab": {
          "base_uri": "https://localhost:8080/"
        },
        "id": "JmmCC4OyKoYQ",
        "outputId": "c992b000-8ee8-43d0-a83f-121c845ee631"
      },
      "source": [
        "history = model.fit(\n",
        "    training_datagen,\n",
        "    # batch_size=BATCH_SIZE,\n",
        "    epochs=25,\n",
        "    # steps_per_epoch=100,\n",
        "    validation_data=validation_datagen,\n",
        "    callbacks=[cp_callback,learning_rate_reduction])"
      ],
      "execution_count": null,
      "outputs": [
        {
          "output_type": "stream",
          "text": [
            "Epoch 1/25\n",
            "786/786 [==============================] - 214s 267ms/step - loss: 1.6227 - accuracy: 0.4798 - val_loss: 1.1558 - val_accuracy: 0.5638\n",
            "\n",
            "Epoch 00001: val_loss improved from inf to 1.15584, saving model to /content/drive/MyDrive/Colab Notebooks/Custom_Weights\n",
            "Epoch 2/25\n",
            "786/786 [==============================] - 209s 266ms/step - loss: 1.1273 - accuracy: 0.5577 - val_loss: 1.0899 - val_accuracy: 0.5689\n",
            "\n",
            "Epoch 00002: val_loss improved from 1.15584 to 1.08990, saving model to /content/drive/MyDrive/Colab Notebooks/Custom_Weights\n",
            "Epoch 3/25\n",
            "786/786 [==============================] - 208s 265ms/step - loss: 1.0609 - accuracy: 0.5828 - val_loss: 1.0481 - val_accuracy: 0.5915\n",
            "\n",
            "Epoch 00003: val_loss improved from 1.08990 to 1.04808, saving model to /content/drive/MyDrive/Colab Notebooks/Custom_Weights\n",
            "Epoch 4/25\n",
            "786/786 [==============================] - 209s 266ms/step - loss: 1.0284 - accuracy: 0.5984 - val_loss: 1.1722 - val_accuracy: 0.5705\n",
            "\n",
            "Epoch 00004: val_loss did not improve from 1.04808\n",
            "Epoch 5/25\n",
            "786/786 [==============================] - 210s 267ms/step - loss: 1.0035 - accuracy: 0.6016 - val_loss: 1.1414 - val_accuracy: 0.5810\n",
            "\n",
            "Epoch 00005: val_loss did not improve from 1.04808\n",
            "\n",
            "Epoch 00005: ReduceLROnPlateau reducing learning rate to 0.0003000000142492354.\n",
            "Epoch 6/25\n",
            "786/786 [==============================] - 208s 265ms/step - loss: 0.9063 - accuracy: 0.6389 - val_loss: 0.9940 - val_accuracy: 0.6008\n",
            "\n",
            "Epoch 00006: val_loss improved from 1.04808 to 0.99402, saving model to /content/drive/MyDrive/Colab Notebooks/Custom_Weights\n",
            "Epoch 7/25\n",
            "786/786 [==============================] - 208s 264ms/step - loss: 0.8441 - accuracy: 0.6572 - val_loss: 1.0806 - val_accuracy: 0.5715\n",
            "\n",
            "Epoch 00007: val_loss did not improve from 0.99402\n",
            "Epoch 8/25\n",
            "786/786 [==============================] - 207s 263ms/step - loss: 0.7941 - accuracy: 0.6827 - val_loss: 1.2258 - val_accuracy: 0.5944\n",
            "\n",
            "Epoch 00008: val_loss did not improve from 0.99402\n",
            "\n",
            "Epoch 00008: ReduceLROnPlateau reducing learning rate to 0.0001.\n",
            "Epoch 9/25\n",
            "786/786 [==============================] - 208s 264ms/step - loss: 0.7126 - accuracy: 0.7140 - val_loss: 0.9853 - val_accuracy: 0.6285\n",
            "\n",
            "Epoch 00009: val_loss improved from 0.99402 to 0.98526, saving model to /content/drive/MyDrive/Colab Notebooks/Custom_Weights\n",
            "Epoch 10/25\n",
            "786/786 [==============================] - 211s 268ms/step - loss: 0.6779 - accuracy: 0.7256 - val_loss: 1.0192 - val_accuracy: 0.6339\n",
            "\n",
            "Epoch 00010: val_loss did not improve from 0.98526\n",
            "Epoch 11/25\n",
            "786/786 [==============================] - 210s 267ms/step - loss: 0.6195 - accuracy: 0.7527 - val_loss: 1.0409 - val_accuracy: 0.6402\n",
            "\n",
            "Epoch 00011: val_loss did not improve from 0.98526\n",
            "Epoch 12/25\n",
            "786/786 [==============================] - 210s 267ms/step - loss: 0.5917 - accuracy: 0.7664 - val_loss: 1.0959 - val_accuracy: 0.6084\n",
            "\n",
            "Epoch 00012: val_loss did not improve from 0.98526\n",
            "Epoch 13/25\n",
            "786/786 [==============================] - 209s 266ms/step - loss: 0.5336 - accuracy: 0.7879 - val_loss: 1.1503 - val_accuracy: 0.6192\n",
            "\n",
            "Epoch 00013: val_loss did not improve from 0.98526\n",
            "Epoch 14/25\n",
            "786/786 [==============================] - 209s 265ms/step - loss: 0.5048 - accuracy: 0.8001 - val_loss: 1.3238 - val_accuracy: 0.6409\n",
            "\n",
            "Epoch 00014: val_loss did not improve from 0.98526\n",
            "Epoch 15/25\n",
            "786/786 [==============================] - 208s 265ms/step - loss: 0.4584 - accuracy: 0.8189 - val_loss: 1.3474 - val_accuracy: 0.5992\n",
            "\n",
            "Epoch 00015: val_loss did not improve from 0.98526\n",
            "Epoch 16/25\n",
            "786/786 [==============================] - 208s 264ms/step - loss: 0.4099 - accuracy: 0.8426 - val_loss: 1.4406 - val_accuracy: 0.6253\n",
            "\n",
            "Epoch 00016: val_loss did not improve from 0.98526\n",
            "Epoch 17/25\n",
            "786/786 [==============================] - 208s 264ms/step - loss: 0.3589 - accuracy: 0.8602 - val_loss: 1.5349 - val_accuracy: 0.5960\n",
            "\n",
            "Epoch 00017: val_loss did not improve from 0.98526\n",
            "Epoch 18/25\n",
            "786/786 [==============================] - 207s 264ms/step - loss: 0.3194 - accuracy: 0.8780 - val_loss: 1.7441 - val_accuracy: 0.6202\n",
            "\n",
            "Epoch 00018: val_loss did not improve from 0.98526\n",
            "Epoch 19/25\n",
            "786/786 [==============================] - 208s 265ms/step - loss: 0.2766 - accuracy: 0.8889 - val_loss: 1.8859 - val_accuracy: 0.6039\n",
            "\n",
            "Epoch 00019: val_loss did not improve from 0.98526\n",
            "Epoch 20/25\n",
            "786/786 [==============================] - 209s 265ms/step - loss: 0.2501 - accuracy: 0.9068 - val_loss: 2.0293 - val_accuracy: 0.5813\n",
            "\n",
            "Epoch 00020: val_loss did not improve from 0.98526\n",
            "Epoch 21/25\n",
            "786/786 [==============================] - 209s 265ms/step - loss: 0.2126 - accuracy: 0.9198 - val_loss: 2.2103 - val_accuracy: 0.5766\n",
            "\n",
            "Epoch 00021: val_loss did not improve from 0.98526\n",
            "Epoch 22/25\n",
            "786/786 [==============================] - 208s 265ms/step - loss: 0.1768 - accuracy: 0.9304 - val_loss: 2.6945 - val_accuracy: 0.5062\n",
            "\n",
            "Epoch 00022: val_loss did not improve from 0.98526\n",
            "Epoch 23/25\n",
            "786/786 [==============================] - 208s 265ms/step - loss: 0.1489 - accuracy: 0.9408 - val_loss: 2.6132 - val_accuracy: 0.5686\n",
            "\n",
            "Epoch 00023: val_loss did not improve from 0.98526\n",
            "Epoch 24/25\n",
            "586/786 [=====================>........] - ETA: 48s - loss: 0.1321 - accuracy: 0.9482"
          ],
          "name": "stdout"
        }
      ]
    },
    {
      "cell_type": "code",
      "metadata": {
        "colab": {
          "base_uri": "https://localhost:8080/",
          "height": 229
        },
        "id": "YkULZ2rCV9TE",
        "outputId": "e8d686be-d5f7-4235-fd76-038de41da81c"
      },
      "source": [
        "import matplotlib.pyplot as plt\n",
        "acc = history.history['accuracy']\n",
        "val_acc = history.history['val_accuracy']\n",
        "loss = history.history['loss']\n",
        "val_loss = history.history['val_loss']\n",
        "\n",
        "epochs = range(len(acc))\n",
        "\n",
        "plt.plot(epochs, acc, 'r', label='Training accuracy')\n",
        "plt.plot(epochs, val_acc, 'b', label='Validation accuracy')\n",
        "plt.title('Training and validation accuracy')\n",
        "plt.legend(loc=0)\n",
        "plt.figure()\n",
        "\n",
        "plt.show()\n"
      ],
      "execution_count": null,
      "outputs": [
        {
          "output_type": "error",
          "ename": "NameError",
          "evalue": "ignored",
          "traceback": [
            "\u001b[0;31m---------------------------------------------------------------------------\u001b[0m",
            "\u001b[0;31mNameError\u001b[0m                                 Traceback (most recent call last)",
            "\u001b[0;32m<ipython-input-43-76d1386e0043>\u001b[0m in \u001b[0;36m<module>\u001b[0;34m()\u001b[0m\n\u001b[1;32m      1\u001b[0m \u001b[0;32mimport\u001b[0m \u001b[0mmatplotlib\u001b[0m\u001b[0;34m.\u001b[0m\u001b[0mpyplot\u001b[0m \u001b[0;32mas\u001b[0m \u001b[0mplt\u001b[0m\u001b[0;34m\u001b[0m\u001b[0;34m\u001b[0m\u001b[0m\n\u001b[0;32m----> 2\u001b[0;31m \u001b[0macc\u001b[0m \u001b[0;34m=\u001b[0m \u001b[0mhistory\u001b[0m\u001b[0;34m.\u001b[0m\u001b[0mhistory\u001b[0m\u001b[0;34m[\u001b[0m\u001b[0;34m'accuracy'\u001b[0m\u001b[0;34m]\u001b[0m\u001b[0;34m\u001b[0m\u001b[0;34m\u001b[0m\u001b[0m\n\u001b[0m\u001b[1;32m      3\u001b[0m \u001b[0mval_acc\u001b[0m \u001b[0;34m=\u001b[0m \u001b[0mhistory\u001b[0m\u001b[0;34m.\u001b[0m\u001b[0mhistory\u001b[0m\u001b[0;34m[\u001b[0m\u001b[0;34m'val_accuracy'\u001b[0m\u001b[0;34m]\u001b[0m\u001b[0;34m\u001b[0m\u001b[0;34m\u001b[0m\u001b[0m\n\u001b[1;32m      4\u001b[0m \u001b[0mloss\u001b[0m \u001b[0;34m=\u001b[0m \u001b[0mhistory\u001b[0m\u001b[0;34m.\u001b[0m\u001b[0mhistory\u001b[0m\u001b[0;34m[\u001b[0m\u001b[0;34m'loss'\u001b[0m\u001b[0;34m]\u001b[0m\u001b[0;34m\u001b[0m\u001b[0;34m\u001b[0m\u001b[0m\n\u001b[1;32m      5\u001b[0m \u001b[0mval_loss\u001b[0m \u001b[0;34m=\u001b[0m \u001b[0mhistory\u001b[0m\u001b[0;34m.\u001b[0m\u001b[0mhistory\u001b[0m\u001b[0;34m[\u001b[0m\u001b[0;34m'val_loss'\u001b[0m\u001b[0;34m]\u001b[0m\u001b[0;34m\u001b[0m\u001b[0;34m\u001b[0m\u001b[0m\n",
            "\u001b[0;31mNameError\u001b[0m: name 'history' is not defined"
          ]
        }
      ]
    },
    {
      "cell_type": "code",
      "metadata": {
        "colab": {
          "base_uri": "https://localhost:8080/"
        },
        "id": "dEy3CX5cWkGl",
        "outputId": "117566a9-81b8-47ad-91a3-a7f051421bb3"
      },
      "source": [
        "gc.collect()"
      ],
      "execution_count": null,
      "outputs": [
        {
          "output_type": "execute_result",
          "data": {
            "text/plain": [
              "2975"
            ]
          },
          "metadata": {
            "tags": []
          },
          "execution_count": 53
        }
      ]
    },
    {
      "cell_type": "code",
      "metadata": {
        "colab": {
          "base_uri": "https://localhost:8080/"
        },
        "id": "uCUNJvwgV4Hp",
        "outputId": "67d7b321-7630-4ebb-9ed0-355d984f01d3"
      },
      "source": [
        "import tensorflow as tf\n",
        "tf.saved_model.save(model,'/content/drive/MyDrive/Colab Notebooks/Diabetic_Weight')"
      ],
      "execution_count": null,
      "outputs": [
        {
          "output_type": "stream",
          "text": [
            "INFO:tensorflow:Assets written to: /content/drive/MyDrive/Colab Notebooks/Diabetic_Weight/assets\n"
          ],
          "name": "stdout"
        },
        {
          "output_type": "stream",
          "text": [
            "INFO:tensorflow:Assets written to: /content/drive/MyDrive/Colab Notebooks/Diabetic_Weight/assets\n"
          ],
          "name": "stderr"
        }
      ]
    },
    {
      "cell_type": "code",
      "metadata": {
        "id": "_kp-6f5bjnbr"
      },
      "source": [
        "from tensorflow.keras.models import load_model\n",
        "from tensorflow.keras.preprocessing import image\n",
        "from os.path import join\n",
        "diab_model = load_model('/content/drive/MyDrive/Colab Notebooks/Diabetic_Weight')\n",
        "shape = (512,512)\n",
        "def decode_img(image_path,shape):\n",
        "    img = tf.keras.preprocessing.image.load_img(filename,target_size=(shape))\n",
        "    img = tf.keras.preprocessing.image.img_to_array(img) # converted to ndarray \n",
        "    img = img.astype(np.float32)/255.0\n",
        "    img = np.expand_dims(img,axis=0)\n",
        "    return img\n",
        "\n"
      ],
      "execution_count": null,
      "outputs": []
    },
    {
      "cell_type": "code",
      "metadata": {
        "colab": {
          "base_uri": "https://localhost:8080/"
        },
        "id": "O71zX3EqjpB1",
        "outputId": "bc1f3835-71a2-45a2-de20-c07a99d681e7"
      },
      "source": [
        "CLASS_NAMES = training_datagen.class_indices\n",
        "Labels = list(CLASS_NAMES.keys())\n",
        "print(Labels)\n",
        "print(CLASS_NAMES)"
      ],
      "execution_count": null,
      "outputs": [
        {
          "output_type": "stream",
          "text": [
            "['0', '1', '2', '3', '4']\n",
            "{'0': 0, '1': 1, '2': 2, '3': 3, '4': 4}\n"
          ],
          "name": "stdout"
        }
      ]
    },
    {
      "cell_type": "code",
      "metadata": {
        "colab": {
          "base_uri": "https://localhost:8080/",
          "height": 302
        },
        "id": "WMjp7MfBpkaq",
        "outputId": "e2fb6d7e-12de-4bf2-e934-71189404f6ed"
      },
      "source": [
        "import glob\n",
        "import random\n",
        "test_img = glob.glob('/content/output/test/*/*.jpeg')\n",
        "img_select = random.randint(1,len(test_img))\n",
        "\n",
        "print(test_img[img_select])\n",
        "img = plt.imread(test_img[img_select])\n",
        "plt.imshow(img,cmap = 'gray')"
      ],
      "execution_count": null,
      "outputs": [
        {
          "output_type": "stream",
          "text": [
            "/content/output/test/4/13669_left._aug_29.jpeg\n"
          ],
          "name": "stdout"
        },
        {
          "output_type": "execute_result",
          "data": {
            "text/plain": [
              "<matplotlib.image.AxesImage at 0x7fb83e6b55d0>"
            ]
          },
          "metadata": {
            "tags": []
          },
          "execution_count": 111
        },
        {
          "output_type": "display_data",
          "data": {
            "image/png": "[encoded data removed]",
            "text/plain": [
              "<Figure size 432x288 with 1 Axes>"
            ]
          },
          "metadata": {
            "tags": []
          }
        }
      ]
    },
    {
      "cell_type": "code",
      "metadata": {
        "colab": {
          "base_uri": "https://localhost:8080/",
          "height": 418
        },
        "id": "Z_ko0omgjriV",
        "outputId": "0e985672-ab59-456b-ab58-7fc359467882"
      },
      "source": [
        "test_data =glob.glob('/content/output/test/*/*.jpeg')\n",
        "print(\"Test data \",len(test_data))\n",
        "img_files = [os.path.basename(name) for name in test_data]\n",
        "test_label = [name.split('/')[-2] for name in test_data]\n",
        "test_df = pd.DataFrame({'filename':img_files,'label':test_label,})\n",
        "test_df.to_csv('test_data.csv')\n",
        "test_df"
      ],
      "execution_count": null,
      "outputs": [
        {
          "output_type": "stream",
          "text": [
            "Test data  3680\n"
          ],
          "name": "stdout"
        },
        {
          "output_type": "execute_result",
          "data": {
            "text/html": [
              "<div>\n",
              "<style scoped>\n",
              "    .dataframe tbody tr th:only-of-type {\n",
              "        vertical-align: middle;\n",
              "    }\n",
              "\n",
              "    .dataframe tbody tr th {\n",
              "        vertical-align: top;\n",
              "    }\n",
              "\n",
              "    .dataframe thead th {\n",
              "        text-align: right;\n",
              "    }\n",
              "</style>\n",
              "<table border=\"1\" class=\"dataframe\">\n",
              "  <thead>\n",
              "    <tr style=\"text-align: right;\">\n",
              "      <th></th>\n",
              "      <th>filename</th>\n",
              "      <th>label</th>\n",
              "    </tr>\n",
              "  </thead>\n",
              "  <tbody>\n",
              "    <tr>\n",
              "      <th>0</th>\n",
              "      <td>2553_right._aug_18.jpeg</td>\n",
              "      <td>2</td>\n",
              "    </tr>\n",
              "    <tr>\n",
              "      <th>1</th>\n",
              "      <td>34066_left.jpeg</td>\n",
              "      <td>2</td>\n",
              "    </tr>\n",
              "    <tr>\n",
              "      <th>2</th>\n",
              "      <td>24092_right.jpeg</td>\n",
              "      <td>2</td>\n",
              "    </tr>\n",
              "    <tr>\n",
              "      <th>3</th>\n",
              "      <td>31305_right.jpeg</td>\n",
              "      <td>2</td>\n",
              "    </tr>\n",
              "    <tr>\n",
              "      <th>4</th>\n",
              "      <td>7237_right.jpeg</td>\n",
              "      <td>2</td>\n",
              "    </tr>\n",
              "    <tr>\n",
              "      <th>...</th>\n",
              "      <td>...</td>\n",
              "      <td>...</td>\n",
              "    </tr>\n",
              "    <tr>\n",
              "      <th>3675</th>\n",
              "      <td>26595_right.jpeg</td>\n",
              "      <td>1</td>\n",
              "    </tr>\n",
              "    <tr>\n",
              "      <th>3676</th>\n",
              "      <td>34350_right._aug_18.jpeg</td>\n",
              "      <td>1</td>\n",
              "    </tr>\n",
              "    <tr>\n",
              "      <th>3677</th>\n",
              "      <td>37792_left._aug_17.jpeg</td>\n",
              "      <td>1</td>\n",
              "    </tr>\n",
              "    <tr>\n",
              "      <th>3678</th>\n",
              "      <td>38083_right._aug_5.jpeg</td>\n",
              "      <td>1</td>\n",
              "    </tr>\n",
              "    <tr>\n",
              "      <th>3679</th>\n",
              "      <td>5044_left._aug_25.jpeg</td>\n",
              "      <td>1</td>\n",
              "    </tr>\n",
              "  </tbody>\n",
              "</table>\n",
              "<p>3680 rows × 2 columns</p>\n",
              "</div>"
            ],
            "text/plain": [
              "                      filename label\n",
              "0      2553_right._aug_18.jpeg     2\n",
              "1              34066_left.jpeg     2\n",
              "2             24092_right.jpeg     2\n",
              "3             31305_right.jpeg     2\n",
              "4              7237_right.jpeg     2\n",
              "...                        ...   ...\n",
              "3675          26595_right.jpeg     1\n",
              "3676  34350_right._aug_18.jpeg     1\n",
              "3677   37792_left._aug_17.jpeg     1\n",
              "3678   38083_right._aug_5.jpeg     1\n",
              "3679    5044_left._aug_25.jpeg     1\n",
              "\n",
              "[3680 rows x 2 columns]"
            ]
          },
          "metadata": {
            "tags": []
          },
          "execution_count": 110
        }
      ]
    },
    {
      "cell_type": "code",
      "metadata": {
        "id": "5BTzcjKdk9tQ"
      },
      "source": [
        "predictions = []\n",
        "for iter,row in test_df.iterrows():\n",
        "  filename = join('/content/output/test',join(row.label,row.filename))\n",
        "  img = decode_img(filename,shape)\n",
        "  pred = diab_model.predict(img)\n",
        "  y_classes = np.argmax(((pred > 0.5)+0).ravel())\n",
        "  predictions.append(pred)"
      ],
      "execution_count": null,
      "outputs": []
    },
    {
      "cell_type": "code",
      "metadata": {
        "colab": {
          "base_uri": "https://localhost:8080/",
          "height": 212
        },
        "id": "-TPLL32FlXUd",
        "outputId": "88d7a9e3-5ca9-498f-bc94-28cfc86a34ba"
      },
      "source": [
        "test_df['pred_label']=predictions\n",
        "print(predictions[0])\n",
        "test_df.head()"
      ],
      "execution_count": null,
      "outputs": [
        {
          "output_type": "stream",
          "text": [
            "[[5.5317637e-06 2.2815375e-02 9.2501062e-01 4.5510259e-02 6.6582439e-03]]\n"
          ],
          "name": "stdout"
        },
        {
          "output_type": "execute_result",
          "data": {
            "text/html": [
              "<div>\n",
              "<style scoped>\n",
              "    .dataframe tbody tr th:only-of-type {\n",
              "        vertical-align: middle;\n",
              "    }\n",
              "\n",
              "    .dataframe tbody tr th {\n",
              "        vertical-align: top;\n",
              "    }\n",
              "\n",
              "    .dataframe thead th {\n",
              "        text-align: right;\n",
              "    }\n",
              "</style>\n",
              "<table border=\"1\" class=\"dataframe\">\n",
              "  <thead>\n",
              "    <tr style=\"text-align: right;\">\n",
              "      <th></th>\n",
              "      <th>filename</th>\n",
              "      <th>label</th>\n",
              "      <th>pred_label</th>\n",
              "    </tr>\n",
              "  </thead>\n",
              "  <tbody>\n",
              "    <tr>\n",
              "      <th>0</th>\n",
              "      <td>2553_right._aug_18.jpeg</td>\n",
              "      <td>2</td>\n",
              "      <td>[[5.5317637e-06, 0.022815375, 0.9250106, 0.045...</td>\n",
              "    </tr>\n",
              "    <tr>\n",
              "      <th>1</th>\n",
              "      <td>34066_left.jpeg</td>\n",
              "      <td>2</td>\n",
              "      <td>[[0.0020567728, 0.00074405683, 0.752894, 0.229...</td>\n",
              "    </tr>\n",
              "    <tr>\n",
              "      <th>2</th>\n",
              "      <td>24092_right.jpeg</td>\n",
              "      <td>2</td>\n",
              "      <td>[[0.5877661, 0.09938885, 0.31264547, 0.0001976...</td>\n",
              "    </tr>\n",
              "    <tr>\n",
              "      <th>3</th>\n",
              "      <td>31305_right.jpeg</td>\n",
              "      <td>2</td>\n",
              "      <td>[[0.024234539, 0.006118406, 0.75766206, 0.1700...</td>\n",
              "    </tr>\n",
              "    <tr>\n",
              "      <th>4</th>\n",
              "      <td>7237_right.jpeg</td>\n",
              "      <td>2</td>\n",
              "      <td>[[0.15913822, 0.011567347, 0.8145898, 0.009391...</td>\n",
              "    </tr>\n",
              "  </tbody>\n",
              "</table>\n",
              "</div>"
            ],
            "text/plain": [
              "                  filename  ...                                         pred_label\n",
              "0  2553_right._aug_18.jpeg  ...  [[5.5317637e-06, 0.022815375, 0.9250106, 0.045...\n",
              "1          34066_left.jpeg  ...  [[0.0020567728, 0.00074405683, 0.752894, 0.229...\n",
              "2         24092_right.jpeg  ...  [[0.5877661, 0.09938885, 0.31264547, 0.0001976...\n",
              "3         31305_right.jpeg  ...  [[0.024234539, 0.006118406, 0.75766206, 0.1700...\n",
              "4          7237_right.jpeg  ...  [[0.15913822, 0.011567347, 0.8145898, 0.009391...\n",
              "\n",
              "[5 rows x 3 columns]"
            ]
          },
          "metadata": {
            "tags": []
          },
          "execution_count": 68
        }
      ]
    },
    {
      "cell_type": "code",
      "metadata": {
        "id": "903THP0ImaJw"
      },
      "source": [
        "y_test = test_df['label'].astype(int)\n",
        "y_pred = test_df['pred_label']"
      ],
      "execution_count": null,
      "outputs": []
    },
    {
      "cell_type": "code",
      "metadata": {
        "colab": {
          "base_uri": "https://localhost:8080/"
        },
        "id": "c56BS8bOon4z",
        "outputId": "065fab1e-a784-4f42-d546-1d51306cb114"
      },
      "source": [
        "y_pred = test_df.apply(lambda row: np.argmax(list(row['pred_label'])) , axis=1)\n",
        "print(y_test)"
      ],
      "execution_count": null,
      "outputs": [
        {
          "output_type": "stream",
          "text": [
            "0       2\n",
            "1       2\n",
            "2       2\n",
            "3       2\n",
            "4       2\n",
            "       ..\n",
            "3675    1\n",
            "3676    1\n",
            "3677    1\n",
            "3678    1\n",
            "3679    1\n",
            "Name: label, Length: 3680, dtype: int64\n"
          ],
          "name": "stdout"
        }
      ]
    },
    {
      "cell_type": "code",
      "metadata": {
        "colab": {
          "base_uri": "https://localhost:8080/"
        },
        "id": "CPI9My4Soo10",
        "outputId": "d812531f-50ee-45a0-ce8c-c2744570c0a6"
      },
      "source": [
        "import itertools\n",
        "from sklearn.metrics import classification_report,confusion_matrix,accuracy_score\n",
        "print(classification_report(y_test, y_pred))\n",
        "cnf_matrix = confusion_matrix(y_test,y_pred)"
      ],
      "execution_count": null,
      "outputs": [
        {
          "output_type": "stream",
          "text": [
            "              precision    recall  f1-score   support\n",
            "\n",
            "           0       0.69      0.94      0.80      1280\n",
            "           1       0.62      0.55      0.58       724\n",
            "           2       0.53      0.42      0.47      1058\n",
            "           3       0.66      0.28      0.39       340\n",
            "           4       0.63      0.65      0.64       278\n",
            "\n",
            "    accuracy                           0.63      3680\n",
            "   macro avg       0.63      0.57      0.58      3680\n",
            "weighted avg       0.62      0.63      0.61      3680\n",
            "\n"
          ],
          "name": "stdout"
        }
      ]
    },
    {
      "cell_type": "code",
      "metadata": {
        "colab": {
          "base_uri": "https://localhost:8080/",
          "height": 718
        },
        "id": "5SwrRTd9sNxg",
        "outputId": "8b54693d-3cb8-4326-fcd0-054169d11bd0"
      },
      "source": [
        "def plot_confusion_matrix(cm, classes, title='Confusion matrix', cmap=plt.cm.Blues):\n",
        "    cm = cm.astype('float') / cm.sum(axis=1)[:, np.newaxis]\n",
        "    plt.figure(figsize=(10,10))\n",
        "    plt.imshow(cm, interpolation='nearest', cmap=cmap)\n",
        "    plt.title(title)\n",
        "    plt.colorbar()\n",
        "    tick_marks = np.arange(len(classes))\n",
        "    plt.xticks(tick_marks, classes, rotation=45)\n",
        "    plt.yticks(tick_marks, classes)\n",
        "\n",
        "    fmt = '.2f'\n",
        "    thresh = cm.max() / 2.\n",
        "    for i, j in itertools.product(range(cm.shape[0]), range(cm.shape[1])):\n",
        "        plt.text(j, i, format(cm[i, j], fmt),\n",
        "                 horizontalalignment=\"center\",\n",
        "                 color=\"white\" if cm[i, j] > thresh else \"black\")\n",
        "\n",
        "    plt.ylabel('True label')\n",
        "    plt.xlabel('Predicted label')\n",
        "    plt.tight_layout()\n",
        "\n",
        "np.set_printoptions(precision=2)\n",
        "\n",
        "\n",
        "# plot normalized confusion matrix\n",
        "plt.figure()\n",
        "plot_confusion_matrix(cnf_matrix, classes=classes, title='Normalized confusion matrix')\n",
        "plt.show()"
      ],
      "execution_count": null,
      "outputs": [
        {
          "output_type": "display_data",
          "data": {
            "text/plain": [
              "<Figure size 432x288 with 0 Axes>"
            ]
          },
          "metadata": {
            "tags": []
          }
        },
        {
          "output_type": "display_data",
          "data": {
            "image/png": "[encoded data removed]",
            "text/plain": [
              "<Figure size 720x720 with 2 Axes>"
            ]
          },
          "metadata": {
            "tags": []
          }
        }
      ]
    },
    {
      "cell_type": "code",
      "metadata": {
        "id": "SZOvigwQtW8-"
      },
      "source": [
        ""
      ],
      "execution_count": null,
      "outputs": []
    }
  ]
}