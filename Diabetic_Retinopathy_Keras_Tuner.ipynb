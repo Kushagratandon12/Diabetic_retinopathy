{
  "nbformat": 4,
  "nbformat_minor": 0,
  "metadata": {
    "colab": {
      "name": "Diabetic_Retinopathy_Keras_Tuner.ipynb",
      "provenance": [],
      "collapsed_sections": [
        "8VsHUf8socjh",
        "4XQpDim8od8W"
      ],
      "include_colab_link": true
    },
    "kernelspec": {
      "display_name": "Python 3",
      "name": "python3"
    },
    "accelerator": "GPU"
  },
  "cells": [
    {
      "cell_type": "markdown",
      "metadata": {
        "id": "view-in-github",
        "colab_type": "text"
      },
      "source": [
        "<a href=\"https://colab.research.google.com/github/Kushagratandon12/Diabetic_retinopathy/blob/main/Diabetic_Retinopathy_Keras_Tuner.ipynb\" target=\"_parent\"><img src=\"https://colab.research.google.com/assets/colab-badge.svg\" alt=\"Open In Colab\"/></a>"
      ]
    },
    {
      "cell_type": "code",
      "metadata": {
        "id": "0Xz5p807dVF4",
        "colab": {
          "base_uri": "https://localhost:8080/"
        },
        "outputId": "be8b283c-5613-4071-fc80-b836ec5b3244"
      },
      "source": [
        "# %%capture\n",
        "!pip install -q -U keras-tuner\n",
        "!rm -rf /content/sample_data\n",
        "# !mkdir -p ~/.kaggle\n",
        "# !cp kaggle.json ~/.kaggle/\n",
        "# !chmod 600 ~/.kaggle/kaggle.json"
      ],
      "execution_count": 1,
      "outputs": [
        {
          "output_type": "stream",
          "text": [
            "\u001b[?25l\r\u001b[K     |█████▏                          | 10kB 26.7MB/s eta 0:00:01\r\u001b[K     |██████████▍                     | 20kB 30.3MB/s eta 0:00:01\r\u001b[K     |███████████████▋                | 30kB 24.6MB/s eta 0:00:01\r\u001b[K     |████████████████████▉           | 40kB 27.2MB/s eta 0:00:01\r\u001b[K     |██████████████████████████      | 51kB 18.9MB/s eta 0:00:01\r\u001b[K     |███████████████████████████████▎| 61kB 17.8MB/s eta 0:00:01\r\u001b[K     |████████████████████████████████| 71kB 7.8MB/s \n",
            "\u001b[?25h  Building wheel for keras-tuner (setup.py) ... \u001b[?25l\u001b[?25hdone\n",
            "  Building wheel for terminaltables (setup.py) ... \u001b[?25l\u001b[?25hdone\n"
          ],
          "name": "stdout"
        }
      ]
    },
    {
      "cell_type": "code",
      "metadata": {
        "id": "WxAzWmaLASuA",
        "colab": {
          "base_uri": "https://localhost:8080/"
        },
        "outputId": "7aed38a7-3fc5-4d48-d423-e8d99418e08a"
      },
      "source": [
        "from google.colab import drive\n",
        "drive.mount('/content/drive')"
      ],
      "execution_count": 2,
      "outputs": [
        {
          "output_type": "stream",
          "text": [
            "Mounted at /content/drive\n"
          ],
          "name": "stdout"
        }
      ]
    },
    {
      "cell_type": "markdown",
      "metadata": {
        "id": "aNGXjCRRnOGp"
      },
      "source": [
        "# Downloading The Dataset"
      ]
    },
    {
      "cell_type": "code",
      "metadata": {
        "id": "mRJJXYi4movj"
      },
      "source": [
        "%%capture\n",
        "# !kaggle datasets download -d kushagratandon12/diabetic-retinopathy-processed-data\n",
        "!unzip /content/drive/MyDrive/Diabetic_Balanced_Data.zip\n",
        "!rm -rf /content/diabetic-retinopathy-processed-data.zip"
      ],
      "execution_count": 3,
      "outputs": []
    },
    {
      "cell_type": "code",
      "metadata": {
        "id": "TtrxJRbKKg9e"
      },
      "source": [
        "import os \n",
        "import gc\n",
        "import cv2\n",
        "import glob\n",
        "import random\n",
        "import numpy as np\n",
        "import pandas as pd\n",
        "from os import path\n",
        "from tqdm import tqdm\n",
        "import seaborn as sns\n",
        "import tensorflow as tf\n",
        "from google.colab import drive\n",
        "from google.colab import files\n",
        "import matplotlib.pyplot as plt\n",
        "from tensorflow.keras import layers\n",
        "from tensorflow.keras.preprocessing import image\n",
        "from tensorflow.keras.optimizers import Adam , SGD , RMSprop\n",
        "from tensorflow.keras.callbacks import ModelCheckpoint\n",
        "from tensorflow.keras.callbacks import ReduceLROnPlateau \n",
        "from tensorflow.keras.applications.vgg16 import VGG16\n",
        "from tensorflow.keras.applications.resnet_v2 import ResNet50V2\n",
        "from tensorflow.keras.applications.inception_v3 import InceptionV3"
      ],
      "execution_count": 4,
      "outputs": []
    },
    {
      "cell_type": "code",
      "metadata": {
        "id": "9IiHCTiOUJQR"
      },
      "source": [
        "def show_data(path_dataset):\n",
        "  images_data = glob.glob(path_dataset)\n",
        "  random.shuffle(images_data)\n",
        "  plt.figure(figsize=(10,10))\n",
        "  for i in range(9):\n",
        "    plt.subplot(3,3,i+1)\n",
        "    img = plt.imread(images_data[i-1])\n",
        "    plt.imshow(img)\n",
        "\n",
        "def plot_data(dataset):\n",
        "  print('Total Number Of Images {}'.format(len(dataset)))\n",
        "  img_files = [os.path.basename(name) for name in dataset]\n",
        "  data_label = [str(name.split('/')[-2]) for name in dataset]\n",
        "  df = pd.DataFrame({'filename':img_files,'label':data_label})\n",
        "  sns.countplot(df['label'])\n",
        "  df['label'].value_counts()\n",
        "  return df"
      ],
      "execution_count": 5,
      "outputs": []
    },
    {
      "cell_type": "code",
      "metadata": {
        "id": "JjlgbSgPlvmu"
      },
      "source": [
        "# dataset = glob.glob('/content/content/processed_data/*/*.jpeg')\n",
        "# df = plot_data(dataset)"
      ],
      "execution_count": null,
      "outputs": []
    },
    {
      "cell_type": "code",
      "metadata": {
        "colab": {
          "base_uri": "https://localhost:8080/"
        },
        "id": "WNIA-z-VebFd",
        "outputId": "e2d04424-f4ff-48de-c50f-e57ee3b5b511"
      },
      "source": [
        "classes=['No_Dr','Mild','Moderate','severe','Proliferative DR']\n",
        "class_dict = {}\n",
        "for i,label in enumerate(classes):\n",
        "  class_dict[i]=label\n",
        "print(class_dict)\n",
        "\n",
        "# label_1 = glob.glob('/content/processed_data/4/*.jpeg')\n",
        "# label_1 = list(label_1[10000::])\n",
        "# print(len(label_1))\n",
        "# for i in range(len(label_1)):\n",
        "#   os.remove(label_1[i])"
      ],
      "execution_count": 6,
      "outputs": [
        {
          "output_type": "stream",
          "text": [
            "{0: 'No_Dr', 1: 'Mild', 2: 'Moderate', 3: 'severe', 4: 'Proliferative DR'}\n"
          ],
          "name": "stdout"
        }
      ]
    },
    {
      "cell_type": "markdown",
      "metadata": {
        "id": "Skk99m4mfUah"
      },
      "source": [
        "Plot Images In A Directory -> Function"
      ]
    },
    {
      "cell_type": "markdown",
      "metadata": {
        "id": "8VsHUf8socjh"
      },
      "source": [
        "## Image Aug using IMAGAUG "
      ]
    },
    {
      "cell_type": "code",
      "metadata": {
        "colab": {
          "base_uri": "https://localhost:8080/"
        },
        "id": "sm1DSjG1qrOI",
        "outputId": "eb7a8d05-7180-489b-f39b-b4c04b849f02"
      },
      "source": [
        "dataset = glob.glob('/content/processed_data/*/*.jpeg')\n",
        "print('Total Number Of Images {}'.format(len(dataset)))\n",
        "img_files = [os.path.basename(name) for name in dataset]\n",
        "data_label = [int(name.split('/')[-2]) for name in dataset]\n",
        "\n",
        "df = pd.DataFrame({'filename':img_files,'label':data_label})"
      ],
      "execution_count": null,
      "outputs": [
        {
          "output_type": "stream",
          "text": [
            "Total Number Of Images 42061\n"
          ],
          "name": "stdout"
        }
      ]
    },
    {
      "cell_type": "code",
      "metadata": {
        "id": "_bj9UTSIt_Eu",
        "colab": {
          "base_uri": "https://localhost:8080/",
          "height": 68
        },
        "outputId": "95164cca-7ffe-43c7-bfbe-6d5f7c16f4ce"
      },
      "source": [
        "df_minor = df.loc[(df['label'] !=0) & (df['label'] !=2) & (df['label'] !=1) ]\n",
        "# df_minor.head()\n",
        "\n",
        "minor_imgs =[]\n",
        "for iter,row in df_minor.iterrows():\n",
        "    fname = os.path.join(os.path.join('/content/processed_data',str(row.label)),\n",
        "                         row.filename)\n",
        "    minor_imgs.append(fname)\n",
        "print(len(minor_imgs))\n",
        "gc.collect()\n",
        "\n",
        "diabetic_imgs= minor_imgs\n",
        "diabetic_imgs = np.asarray(diabetic_imgs)\n",
        "np.random.shuffle(diabetic_imgs)\n",
        "print(diabetic_imgs.shape)\n",
        "\n",
        "\n",
        "from google.colab.patches import cv2_imshow\n",
        "plt.figure(figsize=(10, 10))\n",
        "\n",
        "\n",
        "def decode_img(filename,shape=(512,512)):\n",
        "    img = image.load_img(filename,target_size=(shape))\n",
        "    img  = image.img_to_array(img)\n",
        "    img = np.expand_dims(img,axis=0)\n",
        "    print(img.shape)\n",
        "    return img\n",
        "\n",
        "data_augmentation = tf.keras.Sequential([\n",
        "     layers.experimental.preprocessing.RandomRotation((0.1,0.3),fill_mode='nearest'),\n",
        "      layers.experimental.preprocessing.RandomZoom(0.2),\n",
        "      layers.experimental.preprocessing.RandomContrast(0.2)])\n"
      ],
      "execution_count": null,
      "outputs": [
        {
          "output_type": "stream",
          "text": [
            "12358\n",
            "(12358,)\n"
          ],
          "name": "stdout"
        },
        {
          "output_type": "display_data",
          "data": {
            "text/plain": [
              "<Figure size 720x720 with 0 Axes>"
            ]
          },
          "metadata": {
            "tags": []
          }
        }
      ]
    },
    {
      "cell_type": "code",
      "metadata": {
        "id": "kPKEEbyGV8My"
      },
      "source": [
        "import imageio\n",
        "import warnings\n",
        "from imgaug import augmenters as iaa\n",
        "from google.colab.patches import cv2_imshow\n",
        "warnings.filterwarnings('ignore')\n",
        "\n",
        "plt.figure(figsize=(10, 10))\n",
        "\n",
        "seq = iaa.Sequential([\n",
        "    \t\tiaa.Crop(px=(0, 16)),\n",
        "    \t\tiaa.Fliplr(0.5),\n",
        "            iaa.Affine(rotate=(-25,25)),\n",
        "            iaa.LinearContrast(alpha=1.2),\n",
        "            iaa.GaussianBlur(sigma=1.5)\n",
        "    \t\t])\n",
        "\n",
        "def read_img(filename,shape=(512,512)):\n",
        "    img = image.load_img(filename,target_size=(shape))\n",
        "    img  = image.img_to_array(img)\n",
        "    return img\n",
        "\n",
        "def load_batch(img_list,batch=32,count=0):\n",
        "    imgs = [] \n",
        "    fnames  = []\n",
        "    i = count*batch\n",
        "    for filename in img_list[i:batch*(count+1)]:\n",
        "        img = read_img(filename)\n",
        "        imgs.append(img)\n",
        "        fnames.append(filename)\n",
        "    return imgs,fnames\n",
        "\n",
        "nb_batches  =  len(diabetic_imgs)//32\n",
        "# print(nb_batches)\n",
        "\n",
        "for idx in tqdm(range(nb_batches),position=0):\n",
        "    images,fnames = load_batch(diabetic_imgs,count=idx)\n",
        "    images_aug = seq(images=images)\n",
        "    for im, im_aug in enumerate(images_aug):\n",
        "        name = fnames[im][:-4]+'_aug_'+str(im)+'.jpeg'\n",
        "        imageio.imwrite(name, im_aug)\n",
        "\n",
        "gc.collect()\n",
        "    "
      ],
      "execution_count": null,
      "outputs": []
    },
    {
      "cell_type": "markdown",
      "metadata": {
        "id": "CeHCbP2Fac9I"
      },
      "source": [
        "***Spliting Dataset***"
      ]
    },
    {
      "cell_type": "code",
      "metadata": {
        "id": "kKJn_i4mafLR",
        "colab": {
          "base_uri": "https://localhost:8080/"
        },
        "outputId": "245669b5-590a-4dd8-99d0-84598ac09fbf"
      },
      "source": [
        "input_data = '/content/processed_data'\n",
        "output_data = '/content/Diabetic_Balanced_Data'\n",
        "! mkdir /content/Diabetic_Balanced_Data\n",
        "if len(os.listdir(output_data))==0:\n",
        "  splitfolders.ratio(input_data, output=output_data,seed=100, ratio=(.7, .2, .1), group_prefix=None)"
      ],
      "execution_count": null,
      "outputs": [
        {
          "output_type": "stream",
          "text": [
            "mkdir: cannot create directory ‘/content/Diabetic_Balanced_Data’: File exists\n"
          ],
          "name": "stdout"
        },
        {
          "output_type": "stream",
          "text": [
            "Copying files: 49703 files [00:29, 1707.41 files/s]\n"
          ],
          "name": "stderr"
        }
      ]
    },
    {
      "cell_type": "code",
      "metadata": {
        "id": "4P-Fn8ylyZLL"
      },
      "source": [
        "# !zip -r /content/Diabetic_Balanced_Data.zip /content/\n",
        "!mv /content/Diabetic_Balanced_Data.zip /content/drive/MyDrive/"
      ],
      "execution_count": null,
      "outputs": []
    },
    {
      "cell_type": "markdown",
      "metadata": {
        "id": "X7EuBMcKC0Oj"
      },
      "source": [
        "#Model Creation\n"
      ]
    },
    {
      "cell_type": "code",
      "metadata": {
        "id": "cs05sc2ACf7f"
      },
      "source": [
        "#Hyper-Parameter Declarations \n",
        "IMG_WIDTH = 256\n",
        "IMG_HEIGHT = 256\n",
        "IMG_SHAPE=(IMG_WIDTH,IMG_HEIGHT)\n",
        "test_data = '/content/content/Diabetic_Balanced_Data/test'\n",
        "training_data = '/content/content/Diabetic_Balanced_Data/train'\n",
        "validation_data = '/content/content/Diabetic_Balanced_Data/val'"
      ],
      "execution_count": 10,
      "outputs": []
    },
    {
      "cell_type": "code",
      "metadata": {
        "id": "K3JR6z_5GVjQ",
        "colab": {
          "base_uri": "https://localhost:8080/"
        },
        "outputId": "f758d0a3-eca7-4fcc-a9f5-6ec50d4caa9d"
      },
      "source": [
        "image_data_generator = tf.keras.preprocessing.image.ImageDataGenerator(\n",
        "  rescale = 1.0/255.0,\n",
        "  )\n",
        "\n",
        "training_datagen = image_data_generator.flow_from_directory(\n",
        "    training_data,\n",
        "    target_size=IMG_SHAPE,\n",
        "    shuffle=True,\n",
        ")\n",
        "\n",
        "validation_datagen = image_data_generator.flow_from_directory(\n",
        "    validation_data,\n",
        "    target_size=IMG_SHAPE,\n",
        "    shuffle = True\n",
        ")\n",
        "\n",
        "test_datagen = image_data_generator.flow_from_directory(\n",
        "    test_data,\n",
        "    target_size=IMG_SHAPE,\n",
        "    shuffle=True)"
      ],
      "execution_count": 9,
      "outputs": [
        {
          "output_type": "stream",
          "text": [
            "Found 34792 images belonging to 5 classes.\n",
            "Found 9940 images belonging to 5 classes.\n",
            "Found 4971 images belonging to 5 classes.\n"
          ],
          "name": "stdout"
        }
      ]
    },
    {
      "cell_type": "markdown",
      "metadata": {
        "id": "4XQpDim8od8W"
      },
      "source": [
        "# KERAS HYPERTUNER\n"
      ]
    },
    {
      "cell_type": "code",
      "metadata": {
        "id": "h4GRCmRoGFo5"
      },
      "source": [
        "# !rm -rf /content/drive/MyDrive/Diabetic_Hypertuner"
      ],
      "execution_count": null,
      "outputs": []
    },
    {
      "cell_type": "code",
      "metadata": {
        "id": "XEQga0_xohg8",
        "colab": {
          "base_uri": "https://localhost:8080/"
        },
        "outputId": "50df5bfa-dbd8-4973-b1ff-704e4adaf0db"
      },
      "source": [
        "import kerastuner as kt\n",
        "import tensorflow\n",
        "from tensorflow import keras\n",
        "def model_builder(hp):\n",
        "  model_type = hp.Choice('model_type',['ResNet50V2'])\n",
        "\n",
        "  if model_type == 'ResNet50V2':\n",
        "    base_model = ResNet50V2(input_shape=(IMG_WIDTH,IMG_HEIGHT,3),include_top=False,weights='imagenet')\n",
        "    head_model = base_model\n",
        "    for layers in base_model.layers[:45]:\n",
        "      layers.trainable=True\n",
        "    head_model = head_model.output\n",
        "    head_model = tf.keras.layers.GlobalMaxPooling2D()(head_model)\n",
        "    head_model = tf.keras.layers.Flatten(name=\"Flatten\")(head_model)\n",
        "    hp_units = hp.Int('units', min_value=1300, max_value=1750, step=150)\n",
        "    head_model = tf.keras.layers.Dense(hp_units,activation='relu')(head_model)\n",
        "    head_model = tf.keras.layers.Dropout(0.3)(head_model)\n",
        "    prediction_layer = tf.keras.layers.Dense(len(classes), activation='relu')(head_model)\n",
        "    model = tf.keras.Model(inputs=base_model.input,outputs=prediction_layer)\n",
        "    hp_learning_rate = hp.Choice('learning_rate', values=[1e-2, 1e-3, 1e-4])\n",
        "    model.compile(optimizer=keras.optimizers.Adam(learning_rate=hp_learning_rate),\n",
        "                loss=tf.keras.losses.categorical_crossentropy,\n",
        "                metrics=['accuracy'])\n",
        "\n",
        "  return model\n",
        "\n",
        "\n",
        "tuner = kt.Hyperband(model_builder,\n",
        "                     objective='val_accuracy',\n",
        "                     max_epochs=10,\n",
        "                     factor=5,\n",
        "                     directory='/content/drive/MyDrive/Diabetic_Hypertuner',\n",
        "                     project_name='diabetic_parameters')\n",
        "\n",
        "stop_early = tf.keras.callbacks.EarlyStopping(monitor='val_loss', patience=5)\n",
        "tuner.search(training_datagen, \n",
        "             epochs=5, \n",
        "             verbose=1,\n",
        "             shuffle=True,\n",
        "             validation_data=validation_datagen, \n",
        "             callbacks=[stop_early]\n",
        "             )"
      ],
      "execution_count": null,
      "outputs": [
        {
          "output_type": "stream",
          "text": [
            "Trial 3 Complete [01h 15m 20s]\n",
            "val_accuracy: 0.40231388807296753\n",
            "\n",
            "Best val_accuracy So Far: 0.5737424492835999\n",
            "Total elapsed time: 03h 17m 02s\n",
            "\n",
            "Search: Running Trial #4\n",
            "\n",
            "Hyperparameter    |Value             |Best Value So Far \n",
            "model_type        |ResNet50V2        |ResNet50V2        \n",
            "units             |1300              |1600              \n",
            "learning_rate     |0.0001            |0.0001            \n",
            "tuner/epochs      |10                |10                \n",
            "tuner/initial_e...|0                 |2                 \n",
            "tuner/bracket     |0                 |1                 \n",
            "tuner/round       |0                 |1                 \n",
            "\n",
            "Epoch 1/10\n",
            "   6/1088 [..............................] - ETA: 6:39 - loss: 6.0124 - accuracy: 0.2257WARNING:tensorflow:Callback method `on_train_batch_end` is slow compared to the batch time (batch time: 0.1796s vs `on_train_batch_end` time: 0.1968s). Check your callbacks.\n",
            "1088/1088 [==============================] - 460s 418ms/step - loss: 1.5651 - accuracy: 0.3877 - val_loss: 1.3126 - val_accuracy: 0.3795\n",
            "Epoch 2/10\n",
            "1088/1088 [==============================] - 454s 417ms/step - loss: 1.3043 - accuracy: 0.4423 - val_loss: 1.1056 - val_accuracy: 0.5379\n",
            "Epoch 3/10\n",
            "1088/1088 [==============================] - 454s 417ms/step - loss: 1.1922 - accuracy: 0.5074 - val_loss: 1.2671 - val_accuracy: 0.4650\n",
            "Epoch 4/10\n",
            "1088/1088 [==============================] - 453s 416ms/step - loss: 1.1989 - accuracy: 0.4971 - val_loss: 1.2371 - val_accuracy: 0.4850\n",
            "Epoch 5/10\n",
            "1088/1088 [==============================] - 454s 417ms/step - loss: 1.2065 - accuracy: 0.4942 - val_loss: 1.1280 - val_accuracy: 0.5466\n",
            "Epoch 6/10\n",
            "1088/1088 [==============================] - ETA: 0s - loss: 1.0882 - accuracy: 0.5728"
          ],
          "name": "stdout"
        }
      ]
    },
    {
      "cell_type": "code",
      "metadata": {
        "id": "DxhxAVtYOgE-"
      },
      "source": [
        "best_hps=tuner.get_best_hyperparameters(num_trials=1)[0]\n",
        "print(best_hps)\n",
        "model = tuner.hypermodel.build(best_hps)\n",
        "history = model.fit(training_datagen, epochs=20,validation_data=validation_datagen)\n",
        "\n",
        "val_acc_per_epoch = history.history['val_accuracy']\n",
        "best_epoch = val_acc_per_epoch.index(max(val_acc_per_epoch)) + 1\n",
        "print('Best epoch: %d' % (best_epoch,))"
      ],
      "execution_count": null,
      "outputs": []
    },
    {
      "cell_type": "markdown",
      "metadata": {
        "id": "9AhoBnHlrCpd"
      },
      "source": [
        "# Model "
      ]
    },
    {
      "cell_type": "code",
      "metadata": {
        "id": "725vqnQpaSGF"
      },
      "source": [
        "%load_ext tensorboard\n",
        "from datetime import datetime\n",
        "import os"
      ],
      "execution_count": 11,
      "outputs": []
    },
    {
      "cell_type": "code",
      "metadata": {
        "id": "no7dKu98rAb9"
      },
      "source": [
        "def define_model(n_layers=45,BASE_MODEL='ResNet50V2'):\n",
        "    if BASE_MODEL =='ResNet50V2':\n",
        "        # Pre-trained model with MobileNetV2\n",
        "        base_model = ResNet50V2(input_shape=(IMG_WIDTH,IMG_HEIGHT,3),include_top=False,weights='imagenet')\n",
        "        head_model = base_model\n",
        "        for layers in base_model.layers[:n_layers]:\n",
        "            layers.trainable=True\n",
        "        head_model = head_model.output\n",
        "        head_model = tf.keras.layers.GlobalMaxPooling2D()(head_model)\n",
        "        head_model = tf.keras.layers.Flatten(name=\"Flatten\")(head_model)\n",
        "        head_model = tf.keras.layers.Dense(1600,activation='relu')(head_model)\n",
        "        head_model = tf.keras.layers.Dropout(0.2)(head_model)\n",
        "        prediction_layer = tf.keras.layers.Dense(len(classes), activation='softmax')(head_model)\n",
        "        model = tf.keras.Model(inputs=base_model.input,outputs=prediction_layer)\n",
        "    \n",
        "    if BASE_MODEL =='InceptionV3':\n",
        "        base_model = InceptionV3(input_shape=(IMG_WIDTH,IMG_HEIGHT,3),include_top=False,weights='imagenet')\n",
        "        head_model = base_model\n",
        "        for layers in base_model.layers[:n_layers]:\n",
        "            layers.trainable=False\n",
        "        \n",
        "        head_model = head_model.output\n",
        "        head_model = tf.keras.layers.GlobalMaxPooling2D()(head_model)\n",
        "        head_model = tf.keras.layers.Flatten(name=\"Flatten\")(head_model)\n",
        "        head_model = tf.keras.layers.Dense(1024,activation='relu')(head_model)\n",
        "        head_model = tf.keras.layers.Dropout(0.5)(head_model)\n",
        "        prediction_layer = tf.keras.layers.Dense(len(classes), activation='softmax')(head_model)\n",
        "        model = tf.keras.Model(inputs=base_model.input,outputs=prediction_layer)\n",
        "    return model\n",
        "\n",
        "# define Model \n",
        "model= define_model(BASE_MODEL='ResNet50V2')\n",
        "\n",
        "#Compilation of the model\n",
        "model.compile(\n",
        "    loss='categorical_crossentropy', \n",
        "    optimizer=tf.keras.optimizers.Adam(learning_rate=0.0001), \n",
        "    metrics=['accuracy'])"
      ],
      "execution_count": 17,
      "outputs": []
    },
    {
      "cell_type": "code",
      "metadata": {
        "id": "saPifif4Jujw"
      },
      "source": [
        "checkpoint_path = \"/content/drive/MyDrive/Custom_Weights\"\n",
        "\n",
        "cp_callback = ModelCheckpoint(\n",
        "                             filepath=checkpoint_path,\n",
        "                              save_weights_only=True,\n",
        "                              monitor='val_loss',\n",
        "                              verbose=1,\n",
        "                              save_best_only=True,mode='min')\n",
        "\n",
        "learning_rate_reduction = ReduceLROnPlateau(\n",
        "                                            monitor='val_accuracy', \n",
        "                                            patience = 2, \n",
        "                                            verbose=1,\n",
        "                                            factor=0.3,\n",
        "                                            min_lr=0.00001)\n",
        "\n",
        "logdir = \"logs/scalars/\" + datetime.now().strftime(\"%Y%m%d-%H%M%S\")\n",
        "tensorboard_callback = tf.keras.callbacks.TensorBoard(log_dir=logdir)"
      ],
      "execution_count": 18,
      "outputs": []
    },
    {
      "cell_type": "code",
      "metadata": {
        "id": "JmmCC4OyKoYQ"
      },
      "source": [
        "%tensorboard --logdir logs/scalars\n",
        "history = model.fit(\n",
        "    training_datagen,\n",
        "    epochs=12,\n",
        "    steps_per_epoch=1000, \n",
        "    shuffle=True,\n",
        "    validation_data=validation_datagen,\n",
        "    callbacks=[cp_callback,learning_rate_reduction,tensorboard_callback])\n"
      ],
      "execution_count": null,
      "outputs": []
    },
    {
      "cell_type": "code",
      "metadata": {
        "id": "dEy3CX5cWkGl"
      },
      "source": [
        "import gc\n",
        "gc.collect()"
      ],
      "execution_count": null,
      "outputs": []
    },
    {
      "cell_type": "code",
      "metadata": {
        "id": "uCUNJvwgV4Hp",
        "colab": {
          "base_uri": "https://localhost:8080/"
        },
        "outputId": "49adb4f4-5ec8-4608-9630-61990384f900"
      },
      "source": [
        "import tensorflow as tf\n",
        "tf.saved_model.save(model,'/content/drive/MyDrive/Diabetic_Weight')"
      ],
      "execution_count": 20,
      "outputs": [
        {
          "output_type": "stream",
          "text": [
            "INFO:tensorflow:Assets written to: /content/drive/MyDrive/Diabetic_Weight/assets\n"
          ],
          "name": "stdout"
        }
      ]
    },
    {
      "cell_type": "code",
      "metadata": {
        "id": "_kp-6f5bjnbr"
      },
      "source": [
        "from tensorflow.keras.models import load_model\n",
        "from tensorflow.keras.preprocessing import image\n",
        "from os.path import join\n",
        "diab_model = load_model('/content/drive/MyDrive/Diabetic_Weight')\n",
        "shape = (256,256)\n",
        "def decode_img(image_path,shape):\n",
        "    img = tf.keras.preprocessing.image.load_img(filename,target_size=(shape))\n",
        "    img = tf.keras.preprocessing.image.img_to_array(img) # converted to ndarray \n",
        "    img = img.astype(np.float32)/255.0\n",
        "    img = np.expand_dims(img,axis=0)\n",
        "    return img"
      ],
      "execution_count": 21,
      "outputs": []
    },
    {
      "cell_type": "code",
      "metadata": {
        "id": "O71zX3EqjpB1",
        "colab": {
          "base_uri": "https://localhost:8080/"
        },
        "outputId": "a68c4f21-3469-46e4-97be-b29d53995506"
      },
      "source": [
        "CLASS_NAMES = training_datagen.class_indices\n",
        "Labels = list(CLASS_NAMES.keys())\n",
        "print(Labels)\n",
        "print(CLASS_NAMES)"
      ],
      "execution_count": 22,
      "outputs": [
        {
          "output_type": "stream",
          "text": [
            "['0', '1', '2', '3', '4']\n",
            "{'0': 0, '1': 1, '2': 2, '3': 3, '4': 4}\n"
          ],
          "name": "stdout"
        }
      ]
    },
    {
      "cell_type": "code",
      "metadata": {
        "id": "WMjp7MfBpkaq",
        "colab": {
          "base_uri": "https://localhost:8080/",
          "height": 304
        },
        "outputId": "4caa9561-6303-44f0-98e3-1c539572c763"
      },
      "source": [
        "import glob\n",
        "import random\n",
        "test_img = glob.glob('/content/content/Diabetic_Balanced_Data/test/*/*.jpeg')\n",
        "img_select = random.randint(1,len(test_img))\n",
        "\n",
        "print(test_img[img_select])\n",
        "img = plt.imread(test_img[img_select])\n",
        "plt.imshow(img,cmap = 'gray')"
      ],
      "execution_count": 23,
      "outputs": [
        {
          "output_type": "stream",
          "text": [
            "/content/content/Diabetic_Balanced_Data/test/4/35130_left._aug_6._aug_16._aug_31.jpeg\n"
          ],
          "name": "stdout"
        },
        {
          "output_type": "execute_result",
          "data": {
            "text/plain": [
              "<matplotlib.image.AxesImage at 0x7efe2235b1d0>"
            ]
          },
          "metadata": {
            "tags": []
          },
          "execution_count": 23
        },
        {
          "output_type": "display_data",
          "data": {
            "image/png": "[encoded data removed]",
            "text/plain": [
              "<Figure size 432x288 with 1 Axes>"
            ]
          },
          "metadata": {
            "tags": [],
            "needs_background": "light"
          }
        }
      ]
    },
    {
      "cell_type": "code",
      "metadata": {
        "id": "Z_ko0omgjriV",
        "colab": {
          "base_uri": "https://localhost:8080/",
          "height": 424
        },
        "outputId": "649c227e-4d84-40b4-9b0a-29fbd42c3fc5"
      },
      "source": [
        "test_data =glob.glob('/content/content/Diabetic_Balanced_Data/test/*/*.jpeg')\n",
        "print(\"Test data \",len(test_data))\n",
        "img_files = [os.path.basename(name) for name in test_data]\n",
        "test_label = [name.split('/')[-2] for name in test_data]\n",
        "test_df = pd.DataFrame({'filename':img_files,'label':test_label,})\n",
        "test_df.to_csv('test_data.csv')\n",
        "test_df"
      ],
      "execution_count": 24,
      "outputs": [
        {
          "output_type": "stream",
          "text": [
            "Test data  4971\n"
          ],
          "name": "stdout"
        },
        {
          "output_type": "execute_result",
          "data": {
            "text/html": [
              "<div>\n",
              "<style scoped>\n",
              "    .dataframe tbody tr th:only-of-type {\n",
              "        vertical-align: middle;\n",
              "    }\n",
              "\n",
              "    .dataframe tbody tr th {\n",
              "        vertical-align: top;\n",
              "    }\n",
              "\n",
              "    .dataframe thead th {\n",
              "        text-align: right;\n",
              "    }\n",
              "</style>\n",
              "<table border=\"1\" class=\"dataframe\">\n",
              "  <thead>\n",
              "    <tr style=\"text-align: right;\">\n",
              "      <th></th>\n",
              "      <th>filename</th>\n",
              "      <th>label</th>\n",
              "    </tr>\n",
              "  </thead>\n",
              "  <tbody>\n",
              "    <tr>\n",
              "      <th>0</th>\n",
              "      <td>42633_right._aug_30.jpeg</td>\n",
              "      <td>2</td>\n",
              "    </tr>\n",
              "    <tr>\n",
              "      <th>1</th>\n",
              "      <td>41021_left._aug_13.jpeg</td>\n",
              "      <td>2</td>\n",
              "    </tr>\n",
              "    <tr>\n",
              "      <th>2</th>\n",
              "      <td>5783_left._aug_21.jpeg</td>\n",
              "      <td>2</td>\n",
              "    </tr>\n",
              "    <tr>\n",
              "      <th>3</th>\n",
              "      <td>33321_right._aug_25.jpeg</td>\n",
              "      <td>2</td>\n",
              "    </tr>\n",
              "    <tr>\n",
              "      <th>4</th>\n",
              "      <td>8515_right.jpeg</td>\n",
              "      <td>2</td>\n",
              "    </tr>\n",
              "    <tr>\n",
              "      <th>...</th>\n",
              "      <td>...</td>\n",
              "      <td>...</td>\n",
              "    </tr>\n",
              "    <tr>\n",
              "      <th>4966</th>\n",
              "      <td>2880_right._aug_21._aug_25._aug_24.jpeg</td>\n",
              "      <td>4</td>\n",
              "    </tr>\n",
              "    <tr>\n",
              "      <th>4967</th>\n",
              "      <td>10193_right._aug_27.jpeg</td>\n",
              "      <td>4</td>\n",
              "    </tr>\n",
              "    <tr>\n",
              "      <th>4968</th>\n",
              "      <td>30549_left._aug_6._aug_8.jpeg</td>\n",
              "      <td>4</td>\n",
              "    </tr>\n",
              "    <tr>\n",
              "      <th>4969</th>\n",
              "      <td>15590_left.jpeg</td>\n",
              "      <td>4</td>\n",
              "    </tr>\n",
              "    <tr>\n",
              "      <th>4970</th>\n",
              "      <td>406_right._aug_14._aug_21.jpeg</td>\n",
              "      <td>4</td>\n",
              "    </tr>\n",
              "  </tbody>\n",
              "</table>\n",
              "<p>4971 rows × 2 columns</p>\n",
              "</div>"
            ],
            "text/plain": [
              "                                     filename label\n",
              "0                    42633_right._aug_30.jpeg     2\n",
              "1                     41021_left._aug_13.jpeg     2\n",
              "2                      5783_left._aug_21.jpeg     2\n",
              "3                    33321_right._aug_25.jpeg     2\n",
              "4                             8515_right.jpeg     2\n",
              "...                                       ...   ...\n",
              "4966  2880_right._aug_21._aug_25._aug_24.jpeg     4\n",
              "4967                 10193_right._aug_27.jpeg     4\n",
              "4968            30549_left._aug_6._aug_8.jpeg     4\n",
              "4969                          15590_left.jpeg     4\n",
              "4970           406_right._aug_14._aug_21.jpeg     4\n",
              "\n",
              "[4971 rows x 2 columns]"
            ]
          },
          "metadata": {
            "tags": []
          },
          "execution_count": 24
        }
      ]
    },
    {
      "cell_type": "code",
      "metadata": {
        "id": "5BTzcjKdk9tQ"
      },
      "source": [
        "predictions = []\n",
        "for iter,row in test_df.iterrows():\n",
        "  filename = join('/content/content/Diabetic_Balanced_Data/test/',join(row.label,row.filename))\n",
        "  img = decode_img(filename,shape)\n",
        "  pred = diab_model.predict(img)\n",
        "  y_classes = np.argmax(pred)\n",
        "  #print(y_classes)\n",
        "  predictions.append(pred)"
      ],
      "execution_count": 25,
      "outputs": []
    },
    {
      "cell_type": "code",
      "metadata": {
        "id": "-TPLL32FlXUd",
        "colab": {
          "base_uri": "https://localhost:8080/",
          "height": 215
        },
        "outputId": "20356ebf-9749-4bae-fe66-35b05c77d5c3"
      },
      "source": [
        "test_df['pred_label']=predictions\n",
        "print(predictions[0])\n",
        "test_df.head()"
      ],
      "execution_count": 26,
      "outputs": [
        {
          "output_type": "stream",
          "text": [
            "[[1.4166337e-03 8.8236076e-01 1.1622068e-01 1.9766267e-06 2.2229257e-08]]\n"
          ],
          "name": "stdout"
        },
        {
          "output_type": "execute_result",
          "data": {
            "text/html": [
              "<div>\n",
              "<style scoped>\n",
              "    .dataframe tbody tr th:only-of-type {\n",
              "        vertical-align: middle;\n",
              "    }\n",
              "\n",
              "    .dataframe tbody tr th {\n",
              "        vertical-align: top;\n",
              "    }\n",
              "\n",
              "    .dataframe thead th {\n",
              "        text-align: right;\n",
              "    }\n",
              "</style>\n",
              "<table border=\"1\" class=\"dataframe\">\n",
              "  <thead>\n",
              "    <tr style=\"text-align: right;\">\n",
              "      <th></th>\n",
              "      <th>filename</th>\n",
              "      <th>label</th>\n",
              "      <th>pred_label</th>\n",
              "    </tr>\n",
              "  </thead>\n",
              "  <tbody>\n",
              "    <tr>\n",
              "      <th>0</th>\n",
              "      <td>42633_right._aug_30.jpeg</td>\n",
              "      <td>2</td>\n",
              "      <td>[[0.0014166337, 0.88236076, 0.11622068, 1.9766...</td>\n",
              "    </tr>\n",
              "    <tr>\n",
              "      <th>1</th>\n",
              "      <td>41021_left._aug_13.jpeg</td>\n",
              "      <td>2</td>\n",
              "      <td>[[0.1952096, 3.845998e-05, 0.80475134, 5.05757...</td>\n",
              "    </tr>\n",
              "    <tr>\n",
              "      <th>2</th>\n",
              "      <td>5783_left._aug_21.jpeg</td>\n",
              "      <td>2</td>\n",
              "      <td>[[0.0004954596, 0.0075453008, 0.9915856, 0.000...</td>\n",
              "    </tr>\n",
              "    <tr>\n",
              "      <th>3</th>\n",
              "      <td>33321_right._aug_25.jpeg</td>\n",
              "      <td>2</td>\n",
              "      <td>[[0.0010429122, 0.00026653433, 0.99867874, 1.3...</td>\n",
              "    </tr>\n",
              "    <tr>\n",
              "      <th>4</th>\n",
              "      <td>8515_right.jpeg</td>\n",
              "      <td>2</td>\n",
              "      <td>[[0.06415947, 0.9293213, 0.00651891, 3.022308e...</td>\n",
              "    </tr>\n",
              "  </tbody>\n",
              "</table>\n",
              "</div>"
            ],
            "text/plain": [
              "                   filename  ...                                         pred_label\n",
              "0  42633_right._aug_30.jpeg  ...  [[0.0014166337, 0.88236076, 0.11622068, 1.9766...\n",
              "1   41021_left._aug_13.jpeg  ...  [[0.1952096, 3.845998e-05, 0.80475134, 5.05757...\n",
              "2    5783_left._aug_21.jpeg  ...  [[0.0004954596, 0.0075453008, 0.9915856, 0.000...\n",
              "3  33321_right._aug_25.jpeg  ...  [[0.0010429122, 0.00026653433, 0.99867874, 1.3...\n",
              "4           8515_right.jpeg  ...  [[0.06415947, 0.9293213, 0.00651891, 3.022308e...\n",
              "\n",
              "[5 rows x 3 columns]"
            ]
          },
          "metadata": {
            "tags": []
          },
          "execution_count": 26
        }
      ]
    },
    {
      "cell_type": "code",
      "metadata": {
        "id": "903THP0ImaJw"
      },
      "source": [
        "y_test = test_df['label'].astype(int)\n",
        "y_pred = test_df['pred_label']"
      ],
      "execution_count": 27,
      "outputs": []
    },
    {
      "cell_type": "code",
      "metadata": {
        "id": "c56BS8bOon4z",
        "colab": {
          "base_uri": "https://localhost:8080/"
        },
        "outputId": "bbcb1dfe-2e3f-4d83-b7c8-7a3e32e8e609"
      },
      "source": [
        "y_pred = test_df.apply(lambda row: np.argmax(list(row['pred_label'])) , axis=1)\n",
        "print(y_test)"
      ],
      "execution_count": 28,
      "outputs": [
        {
          "output_type": "stream",
          "text": [
            "0       2\n",
            "1       2\n",
            "2       2\n",
            "3       2\n",
            "4       2\n",
            "       ..\n",
            "4966    4\n",
            "4967    4\n",
            "4968    4\n",
            "4969    4\n",
            "4970    4\n",
            "Name: label, Length: 4971, dtype: int64\n"
          ],
          "name": "stdout"
        }
      ]
    },
    {
      "cell_type": "code",
      "metadata": {
        "id": "CPI9My4Soo10",
        "colab": {
          "base_uri": "https://localhost:8080/"
        },
        "outputId": "e9920735-5749-487b-fedb-e2d354ebe2fd"
      },
      "source": [
        "import itertools\n",
        "from sklearn.metrics import classification_report,confusion_matrix,accuracy_score\n",
        "print(classification_report(y_test, y_pred))\n",
        "cnf_matrix = confusion_matrix(y_test,y_pred)"
      ],
      "execution_count": 29,
      "outputs": [
        {
          "output_type": "stream",
          "text": [
            "              precision    recall  f1-score   support\n",
            "\n",
            "           0       0.61      0.57      0.59      1000\n",
            "           1       0.62      0.68      0.65       971\n",
            "           2       0.58      0.59      0.58      1000\n",
            "           3       0.91      0.86      0.89      1000\n",
            "           4       0.94      0.93      0.93      1000\n",
            "\n",
            "    accuracy                           0.73      4971\n",
            "   macro avg       0.73      0.73      0.73      4971\n",
            "weighted avg       0.73      0.73      0.73      4971\n",
            "\n"
          ],
          "name": "stdout"
        }
      ]
    },
    {
      "cell_type": "code",
      "metadata": {
        "id": "5SwrRTd9sNxg",
        "colab": {
          "base_uri": "https://localhost:8080/",
          "height": 712
        },
        "outputId": "8976c109-df73-4a6a-9663-2b099fc7a77d"
      },
      "source": [
        "def plot_confusion_matrix(cm, classes, title='Confusion matrix', cmap=plt.cm.Blues):\n",
        "    cm = cm.astype('float') / cm.sum(axis=1)[:, np.newaxis]\n",
        "    plt.figure(figsize=(10,10))\n",
        "    plt.imshow(cm, interpolation='nearest', cmap=cmap)\n",
        "    plt.title(title)\n",
        "    plt.colorbar()\n",
        "    tick_marks = np.arange(len(classes))\n",
        "    plt.xticks(tick_marks, classes, rotation=45)\n",
        "    plt.yticks(tick_marks, classes)\n",
        "\n",
        "    fmt = '.2f'\n",
        "    thresh = cm.max() / 2.\n",
        "    for i, j in itertools.product(range(cm.shape[0]), range(cm.shape[1])):\n",
        "        plt.text(j, i, format(cm[i, j], fmt),\n",
        "                 horizontalalignment=\"center\",\n",
        "                 color=\"white\" if cm[i, j] > thresh else \"black\")\n",
        "\n",
        "    plt.ylabel('True label')\n",
        "    plt.xlabel('Predicted label')\n",
        "    plt.tight_layout()\n",
        "\n",
        "np.set_printoptions(precision=2)\n",
        "\n",
        "\n",
        "# plot normalized confusion matrix\n",
        "plt.figure()\n",
        "plot_confusion_matrix(cnf_matrix, classes=classes, title='Normalized confusion matrix')\n",
        "plt.show()"
      ],
      "execution_count": 31,
      "outputs": [
        {
          "output_type": "display_data",
          "data": {
            "text/plain": [
              "<Figure size 432x288 with 0 Axes>"
            ]
          },
          "metadata": {
            "tags": []
          }
        },
        {
          "output_type": "display_data",
          "data": {
            "image/png": "[encoded data removed]",
            "text/plain": [
              "<Figure size 720x720 with 2 Axes>"
            ]
          },
          "metadata": {
            "tags": [],
            "needs_background": "light"
          }
        }
      ]
    }
  ]
}